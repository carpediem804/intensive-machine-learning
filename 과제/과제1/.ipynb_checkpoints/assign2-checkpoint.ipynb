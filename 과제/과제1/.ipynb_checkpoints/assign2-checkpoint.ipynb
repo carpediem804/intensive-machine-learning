{
 "cells": [
  {
   "cell_type": "code",
   "execution_count": 19,
   "metadata": {},
   "outputs": [
    {
     "name": "stdout",
     "output_type": "stream",
     "text": [
      "99.7780244173141\n"
     ]
    },
    {
     "ename": "TypeError",
     "evalue": "'int' object is not callable",
     "output_type": "error",
     "traceback": [
      "\u001b[1;31m---------------------------------------------------------------------------\u001b[0m",
      "\u001b[1;31mTypeError\u001b[0m                                 Traceback (most recent call last)",
      "\u001b[1;32m<ipython-input-19-3d49b08b4932>\u001b[0m in \u001b[0;36m<module>\u001b[1;34m()\u001b[0m\n\u001b[0;32m     84\u001b[0m \u001b[1;33m\u001b[0m\u001b[0m\n\u001b[0;32m     85\u001b[0m \u001b[1;32mfor\u001b[0m \u001b[0mi\u001b[0m \u001b[1;32min\u001b[0m \u001b[0mrange\u001b[0m\u001b[1;33m(\u001b[0m\u001b[0mlen\u001b[0m\u001b[1;33m(\u001b[0m\u001b[0mtrain_target\u001b[0m\u001b[1;33m)\u001b[0m\u001b[1;33m)\u001b[0m\u001b[1;33m:\u001b[0m\u001b[1;31m#test_target len까지\u001b[0m\u001b[1;33m\u001b[0m\u001b[0m\n\u001b[1;32m---> 86\u001b[1;33m     \u001b[0mresult\u001b[0m \u001b[1;33m=\u001b[0m \u001b[0mclassify\u001b[0m\u001b[1;33m(\u001b[0m\u001b[0mtrain_target\u001b[0m\u001b[1;33m,\u001b[0m \u001b[0mtrain_target\u001b[0m\u001b[1;33m[\u001b[0m\u001b[0mi\u001b[0m\u001b[1;33m,\u001b[0m\u001b[1;33m:\u001b[0m\u001b[1;33m]\u001b[0m\u001b[1;33m,\u001b[0m\u001b[0mtrain_category\u001b[0m\u001b[1;33m,\u001b[0m \u001b[0mk\u001b[0m\u001b[1;33m=\u001b[0m\u001b[1;36m5\u001b[0m\u001b[1;33m)\u001b[0m\u001b[1;31m# k 가 5인경우 가장가까운 5개의 class를 배열로 표현\u001b[0m\u001b[1;33m\u001b[0m\u001b[0m\n\u001b[0m\u001b[0;32m     87\u001b[0m     \u001b[0mclass_result\u001b[0m\u001b[1;33m.\u001b[0m\u001b[0mappend\u001b[0m\u001b[1;33m(\u001b[0m\u001b[0mresult\u001b[0m\u001b[1;33m)\u001b[0m\u001b[1;33m\u001b[0m\u001b[0m\n\u001b[0;32m     88\u001b[0m \u001b[1;33m\u001b[0m\u001b[0m\n",
      "\u001b[1;31mTypeError\u001b[0m: 'int' object is not callable"
     ]
    }
   ],
   "source": [
    "import numpy as np\n",
    "import matplotlib.pyplot as plt\n",
    "import pandas as pd\n",
    "import math\n",
    "from collections import Counter\n",
    "import operator\n",
    " \n",
    "train = pd.read_csv('mushrooms_train(KNN).csv')\n",
    "test = pd.read_csv('mushrooms_test(KNN).csv')\n",
    "\n",
    "#숫자로 바꾸기 \n",
    "for i in range(0,23):\n",
    "    train.iloc[:,i] = train.iloc[:,i].astype('category')\n",
    "    train.iloc[:,i] = train.iloc[:,i].cat.codes\n",
    "    test.iloc[:,i] = test.iloc[:,i].astype('category')\n",
    "    test.iloc[:,i] = test.iloc[:,i].cat.codes\n",
    "\n",
    "#train의 class만 뽑기\n",
    "train_category = np.array(train.iloc[:,0])\n",
    "\n",
    "#train의 비교하기위한 class값 빼고 나머지 값들 뽑기 \n",
    "train_target = np.array(train.iloc[:,1:])\n",
    "\n",
    "#test도 똑같이\n",
    "test_category = np.array(test.iloc[:,0])\n",
    "test_target = np.array(test.iloc[:,1:])\n",
    "\n",
    "\n",
    "def get_Distance(instance1, instance2, length):#test의 한값과 train과의 거리값 구하기\n",
    "    distance = 0\n",
    "    for x in range(length):\n",
    "        distance += pow((instance1[x] - instance2[x]), 2)\n",
    "    return math.sqrt(distance)\n",
    "\n",
    "def classify(train_target, test_target, train_category, k):#가장가까운 k값 설정 \n",
    "    distances = []\n",
    "   \n",
    "    for i in range(len(train_target)):\n",
    "        dist = get_Distance(test_target,train_target[i],22)#test_Target[x]에 대해서 길이구하기\n",
    "        distances.append((train_category[i],dist))# 나온 거리값을 distances 배열에 추가 \n",
    "        distances.sort(key=operator.itemgetter(1))#각 거리별 소팅하기 \n",
    "       \n",
    "    #print(distances)\n",
    "    neighbors = []\n",
    "    for x in range(k):#가장 가까운 k개를 neighbors에 저장\n",
    "        neighbors.append(distances[x][0]) \n",
    "    return neighbors\n",
    "   \n",
    "#test 넣어서 결과값 예측해보기 \n",
    "class_result = []\n",
    "for i in range(len(test_target)):#test_target len까지\n",
    "    result = classify(train_target, test_target[i,:],train_category, k=5)# k 가 5인경우 가장가까운 5개의 class를 배열로 표현\n",
    "    class_result.append(result)\n",
    "    \n",
    "def predict(class_result): #테스트 데이터의 class결정\n",
    "    p = e = 0\n",
    "    for i in class_result:\n",
    "        if i == 0:\n",
    "            p +=1\n",
    "        else :\n",
    "            e +=1\n",
    "    if p > e:\n",
    "        return 0\n",
    "    else:\n",
    "        return 1\n",
    "\n",
    "total = [] # test데이터 돌려서 나온 class값을 저장하기위한 배열 \n",
    "for i in range(len(test_target)):#test데이터 끝까지 최종 class 값 결정하기\n",
    "    classify = predict(class_result[i]) ## 최종 class 결정 \n",
    "    total.append(classify)\n",
    "  \n",
    "    \n",
    "total = np.array(total) # 비교하기위해 array로 바꾸기\n",
    "\n",
    "\n",
    "def getAccuracy(test_category, total): #얼마나 정확한지 확인하기 \n",
    "    correct = 0\n",
    "    for x in range(len(test_category)):#len(test_category)\n",
    "        if total[x] == test_category[x]:\n",
    "            correct +=1\n",
    "    return (correct/float(len(test_category)))*100.0\n",
    "accuracy = getAccuracy(test_category,total)# accuracy 출력하기 \n",
    "print(accuracy)\n"
   ]
  },
  {
   "cell_type": "code",
   "execution_count": 26,
   "metadata": {},
   "outputs": [
    {
     "ename": "TypeError",
     "evalue": "'int' object is not callable",
     "output_type": "error",
     "traceback": [
      "\u001b[1;31m---------------------------------------------------------------------------\u001b[0m",
      "\u001b[1;31mTypeError\u001b[0m                                 Traceback (most recent call last)",
      "\u001b[1;32m<ipython-input-26-c6cedde0aae5>\u001b[0m in \u001b[0;36m<module>\u001b[1;34m()\u001b[0m\n\u001b[0;32m      1\u001b[0m \u001b[1;31m#k가 5일때\u001b[0m\u001b[1;33m\u001b[0m\u001b[1;33m\u001b[0m\u001b[0m\n\u001b[0;32m      2\u001b[0m \u001b[0mclass_result\u001b[0m \u001b[1;33m=\u001b[0m \u001b[1;33m[\u001b[0m\u001b[1;33m]\u001b[0m\u001b[1;33m\u001b[0m\u001b[0m\n\u001b[1;32m----> 3\u001b[1;33m \u001b[0mclassify\u001b[0m\u001b[1;33m(\u001b[0m\u001b[0mtrain_target\u001b[0m\u001b[1;33m,\u001b[0m \u001b[0mtest_target\u001b[0m\u001b[1;33m[\u001b[0m\u001b[1;36m3\u001b[0m\u001b[1;33m,\u001b[0m\u001b[1;33m:\u001b[0m\u001b[1;33m]\u001b[0m\u001b[1;33m,\u001b[0m\u001b[0mtrain_category\u001b[0m\u001b[1;33m,\u001b[0m \u001b[1;36m3\u001b[0m\u001b[1;33m)\u001b[0m\u001b[1;33m\u001b[0m\u001b[0m\n\u001b[0m\u001b[0;32m      4\u001b[0m \u001b[1;32mfor\u001b[0m \u001b[0mi\u001b[0m \u001b[1;32min\u001b[0m \u001b[0mrange\u001b[0m\u001b[1;33m(\u001b[0m\u001b[0mlen\u001b[0m\u001b[1;33m(\u001b[0m\u001b[0mtest_target\u001b[0m\u001b[1;33m)\u001b[0m\u001b[1;33m)\u001b[0m\u001b[1;33m:\u001b[0m \u001b[1;31m#test_target len까지\u001b[0m\u001b[1;33m\u001b[0m\u001b[0m\n\u001b[0;32m      5\u001b[0m     \u001b[0mresult2\u001b[0m \u001b[1;33m=\u001b[0m \u001b[0mclassify\u001b[0m\u001b[1;33m(\u001b[0m\u001b[0mtrain_target\u001b[0m\u001b[1;33m,\u001b[0m \u001b[0mtest_target\u001b[0m\u001b[1;33m[\u001b[0m\u001b[0mi\u001b[0m\u001b[1;33m,\u001b[0m\u001b[1;33m:\u001b[0m\u001b[1;33m]\u001b[0m\u001b[1;33m,\u001b[0m\u001b[0mtrain_category\u001b[0m\u001b[1;33m,\u001b[0m \u001b[0mk\u001b[0m\u001b[1;33m=\u001b[0m\u001b[1;36m5\u001b[0m\u001b[1;33m)\u001b[0m\u001b[1;33m\u001b[0m\u001b[0m\n",
      "\u001b[1;31mTypeError\u001b[0m: 'int' object is not callable"
     ]
    }
   ],
   "source": [
    "#k가 5일때 \n",
    "class_result = []\n",
    "\n",
    "for i in range(len(test_target)): #test_target len까지\n",
    "    result2 = classify(train_target, test_target[i,:],train_category, k=5)\n",
    "    # k 가 5인경우 가장가까운 5개의 class를 배열로 표현\n",
    "    class_result.append(result2)\n",
    "#-> test와 가장가까운 5개의 점들의 class와 거리가 class_result에 저장\n",
    "\n",
    "total = [] # test데이터 돌려서 예측한 class값을 저장하기위한 배열 \n",
    "    \n",
    "total = np.array(total) # 비교하기위해 array로 바꾸기\n",
    "for i in range(len(test_target)):#test데이터 끝까지 class 값 예측하기\n",
    "    classify2= predict(class_result[i]) ## 최종 class 결정 \n",
    "    total.append(classify2)\n",
    "#-> class 결정하기 \n",
    "\n",
    "\n",
    "\n",
    "#최종 knn classifier의 test accuarcy 출력\n",
    "accuracy = getAccuracy(test_category,total)# accuracy 출력하기 \n",
    "print(accuracy)\n",
    "\n",
    "\n",
    "\n",
    "\n",
    "\n"
   ]
  },
  {
   "cell_type": "code",
   "execution_count": 21,
   "metadata": {},
   "outputs": [
    {
     "ename": "TypeError",
     "evalue": "'int' object is not callable",
     "output_type": "error",
     "traceback": [
      "\u001b[1;31m---------------------------------------------------------------------------\u001b[0m",
      "\u001b[1;31mTypeError\u001b[0m                                 Traceback (most recent call last)",
      "\u001b[1;32m<ipython-input-21-aa42246386a6>\u001b[0m in \u001b[0;36m<module>\u001b[1;34m()\u001b[0m\n\u001b[0;32m      2\u001b[0m \u001b[0mclass_result\u001b[0m \u001b[1;33m=\u001b[0m \u001b[1;33m[\u001b[0m\u001b[1;33m]\u001b[0m\u001b[1;33m\u001b[0m\u001b[0m\n\u001b[0;32m      3\u001b[0m \u001b[1;32mfor\u001b[0m \u001b[0mi\u001b[0m \u001b[1;32min\u001b[0m \u001b[0mrange\u001b[0m\u001b[1;33m(\u001b[0m\u001b[0mlen\u001b[0m\u001b[1;33m(\u001b[0m\u001b[0mtrain_target\u001b[0m\u001b[1;33m)\u001b[0m\u001b[1;33m)\u001b[0m\u001b[1;33m:\u001b[0m\u001b[1;31m#test_target len까지\u001b[0m\u001b[1;33m\u001b[0m\u001b[0m\n\u001b[1;32m----> 4\u001b[1;33m     \u001b[0mresult\u001b[0m \u001b[1;33m=\u001b[0m \u001b[0mclassify\u001b[0m\u001b[1;33m(\u001b[0m\u001b[0mtrain_target\u001b[0m\u001b[1;33m,\u001b[0m \u001b[0mtrain_target\u001b[0m\u001b[1;33m[\u001b[0m\u001b[0mi\u001b[0m\u001b[1;33m,\u001b[0m\u001b[1;33m:\u001b[0m\u001b[1;33m]\u001b[0m\u001b[1;33m,\u001b[0m\u001b[0mtrain_category\u001b[0m\u001b[1;33m,\u001b[0m \u001b[0mk\u001b[0m\u001b[1;33m=\u001b[0m\u001b[1;36m5\u001b[0m\u001b[1;33m)\u001b[0m\u001b[1;31m# k 가 5인경우 가장가까운 5개의 class를 배열로 표현\u001b[0m\u001b[1;33m\u001b[0m\u001b[0m\n\u001b[0m\u001b[0;32m      5\u001b[0m     \u001b[0mclass_result\u001b[0m\u001b[1;33m.\u001b[0m\u001b[0mappend\u001b[0m\u001b[1;33m(\u001b[0m\u001b[0mresult\u001b[0m\u001b[1;33m)\u001b[0m\u001b[1;33m\u001b[0m\u001b[0m\n\u001b[0;32m      6\u001b[0m \u001b[1;33m\u001b[0m\u001b[0m\n",
      "\u001b[1;31mTypeError\u001b[0m: 'int' object is not callable"
     ]
    }
   ],
   "source": [
    "#학습된 knn classifier의 training accuarcy 출력\n",
    "class_result = []\n",
    "for i in range(len(train_target)):#test_target len까지\n",
    "    result = classify(train_target, train_target[i,:],train_category, k=5)# k 가 5인경우 가장가까운 5개의 class를 배열로 표현\n",
    "    class_result.append(result)\n",
    "\n",
    "total = [] # train데이터 돌려서 예측한 class값을 저장하기위한 배열 \n",
    "    \n",
    "total = np.array(total) # 비교하기위해 array로 바꾸기\n",
    "for i in range(len(train_target)):#test데이터 끝까지 class 값 예측하기\n",
    "    classify = predict(class_result[i]) ## 최종 class 결정 \n",
    "    total.append(classify)\n",
    "\n",
    "#최종 knn classifier의 train accuarcy 출력     \n",
    "accuracy = getAccuracy(train_category,total)\n",
    "print(accuracy)\n"
   ]
  }
 ],
 "metadata": {
  "kernelspec": {
   "display_name": "Python 3",
   "language": "python",
   "name": "python3"
  },
  "language_info": {
   "codemirror_mode": {
    "name": "ipython",
    "version": 3
   },
   "file_extension": ".py",
   "mimetype": "text/x-python",
   "name": "python",
   "nbconvert_exporter": "python",
   "pygments_lexer": "ipython3",
   "version": "3.6.3"
  }
 },
 "nbformat": 4,
 "nbformat_minor": 2
}
