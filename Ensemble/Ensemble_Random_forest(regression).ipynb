{
 "cells": [
  {
   "cell_type": "markdown",
   "metadata": {},
   "source": [
    "# Ensemble_Random Forest\n",
    "\n",
    "#### reference : http://scikit-learn.org/stable/modules/generated/sklearn.ensemble.RandomForestRegressor.html"
   ]
  },
  {
   "cell_type": "code",
   "execution_count": 2,
   "metadata": {
    "collapsed": true
   },
   "outputs": [],
   "source": [
    "# module import\n",
    "\n",
    "from sklearn.model_selection import train_test_split\n",
    "from sklearn.datasets import load_boston\n",
    "import pandas as pd"
   ]
  },
  {
   "cell_type": "markdown",
   "metadata": {},
   "source": [
    "## boston data load"
   ]
  },
  {
   "cell_type": "code",
   "execution_count": 3,
   "metadata": {
    "scrolled": true
   },
   "outputs": [
    {
     "name": "stdout",
     "output_type": "stream",
     "text": [
      "dict_keys(['data', 'target', 'feature_names', 'DESCR'])\n",
      "['CRIM' 'ZN' 'INDUS' 'CHAS' 'NOX' 'RM' 'AGE' 'DIS' 'RAD' 'TAX' 'PTRATIO'\n",
      " 'B' 'LSTAT']\n",
      "[[6.3200e-03 1.8000e+01 2.3100e+00 ... 1.5300e+01 3.9690e+02 4.9800e+00]\n",
      " [2.7310e-02 0.0000e+00 7.0700e+00 ... 1.7800e+01 3.9690e+02 9.1400e+00]\n",
      " [2.7290e-02 0.0000e+00 7.0700e+00 ... 1.7800e+01 3.9283e+02 4.0300e+00]\n",
      " ...\n",
      " [6.0760e-02 0.0000e+00 1.1930e+01 ... 2.1000e+01 3.9690e+02 5.6400e+00]\n",
      " [1.0959e-01 0.0000e+00 1.1930e+01 ... 2.1000e+01 3.9345e+02 6.4800e+00]\n",
      " [4.7410e-02 0.0000e+00 1.1930e+01 ... 2.1000e+01 3.9690e+02 7.8800e+00]]\n",
      "[24.  21.6 34.7 33.4 36.2 28.7 22.9 27.1 16.5 18.9 15.  18.9 21.7 20.4\n",
      " 18.2 19.9 23.1 17.5 20.2 18.2 13.6 19.6 15.2 14.5 15.6 13.9 16.6 14.8\n",
      " 18.4 21.  12.7 14.5 13.2 13.1 13.5 18.9 20.  21.  24.7 30.8 34.9 26.6\n",
      " 25.3 24.7 21.2 19.3 20.  16.6 14.4 19.4 19.7 20.5 25.  23.4 18.9 35.4\n",
      " 24.7 31.6 23.3 19.6 18.7 16.  22.2 25.  33.  23.5 19.4 22.  17.4 20.9\n",
      " 24.2 21.7 22.8 23.4 24.1 21.4 20.  20.8 21.2 20.3 28.  23.9 24.8 22.9\n",
      " 23.9 26.6 22.5 22.2 23.6 28.7 22.6 22.  22.9 25.  20.6 28.4 21.4 38.7\n",
      " 43.8 33.2 27.5 26.5 18.6 19.3 20.1 19.5 19.5 20.4 19.8 19.4 21.7 22.8\n",
      " 18.8 18.7 18.5 18.3 21.2 19.2 20.4 19.3 22.  20.3 20.5 17.3 18.8 21.4\n",
      " 15.7 16.2 18.  14.3 19.2 19.6 23.  18.4 15.6 18.1 17.4 17.1 13.3 17.8\n",
      " 14.  14.4 13.4 15.6 11.8 13.8 15.6 14.6 17.8 15.4 21.5 19.6 15.3 19.4\n",
      " 17.  15.6 13.1 41.3 24.3 23.3 27.  50.  50.  50.  22.7 25.  50.  23.8\n",
      " 23.8 22.3 17.4 19.1 23.1 23.6 22.6 29.4 23.2 24.6 29.9 37.2 39.8 36.2\n",
      " 37.9 32.5 26.4 29.6 50.  32.  29.8 34.9 37.  30.5 36.4 31.1 29.1 50.\n",
      " 33.3 30.3 34.6 34.9 32.9 24.1 42.3 48.5 50.  22.6 24.4 22.5 24.4 20.\n",
      " 21.7 19.3 22.4 28.1 23.7 25.  23.3 28.7 21.5 23.  26.7 21.7 27.5 30.1\n",
      " 44.8 50.  37.6 31.6 46.7 31.5 24.3 31.7 41.7 48.3 29.  24.  25.1 31.5\n",
      " 23.7 23.3 22.  20.1 22.2 23.7 17.6 18.5 24.3 20.5 24.5 26.2 24.4 24.8\n",
      " 29.6 42.8 21.9 20.9 44.  50.  36.  30.1 33.8 43.1 48.8 31.  36.5 22.8\n",
      " 30.7 50.  43.5 20.7 21.1 25.2 24.4 35.2 32.4 32.  33.2 33.1 29.1 35.1\n",
      " 45.4 35.4 46.  50.  32.2 22.  20.1 23.2 22.3 24.8 28.5 37.3 27.9 23.9\n",
      " 21.7 28.6 27.1 20.3 22.5 29.  24.8 22.  26.4 33.1 36.1 28.4 33.4 28.2\n",
      " 22.8 20.3 16.1 22.1 19.4 21.6 23.8 16.2 17.8 19.8 23.1 21.  23.8 23.1\n",
      " 20.4 18.5 25.  24.6 23.  22.2 19.3 22.6 19.8 17.1 19.4 22.2 20.7 21.1\n",
      " 19.5 18.5 20.6 19.  18.7 32.7 16.5 23.9 31.2 17.5 17.2 23.1 24.5 26.6\n",
      " 22.9 24.1 18.6 30.1 18.2 20.6 17.8 21.7 22.7 22.6 25.  19.9 20.8 16.8\n",
      " 21.9 27.5 21.9 23.1 50.  50.  50.  50.  50.  13.8 13.8 15.  13.9 13.3\n",
      " 13.1 10.2 10.4 10.9 11.3 12.3  8.8  7.2 10.5  7.4 10.2 11.5 15.1 23.2\n",
      "  9.7 13.8 12.7 13.1 12.5  8.5  5.   6.3  5.6  7.2 12.1  8.3  8.5  5.\n",
      " 11.9 27.9 17.2 27.5 15.  17.2 17.9 16.3  7.   7.2  7.5 10.4  8.8  8.4\n",
      " 16.7 14.2 20.8 13.4 11.7  8.3 10.2 10.9 11.   9.5 14.5 14.1 16.1 14.3\n",
      " 11.7 13.4  9.6  8.7  8.4 12.8 10.5 17.1 18.4 15.4 10.8 11.8 14.9 12.6\n",
      " 14.1 13.  13.4 15.2 16.1 17.8 14.9 14.1 12.7 13.5 14.9 20.  16.4 17.7\n",
      " 19.5 20.2 21.4 19.9 19.  19.1 19.1 20.1 19.9 19.6 23.2 29.8 13.8 13.3\n",
      " 16.7 12.  14.6 21.4 23.  23.7 25.  21.8 20.6 21.2 19.1 20.6 15.2  7.\n",
      "  8.1 13.6 20.1 21.8 24.5 23.1 19.7 18.3 21.2 17.5 16.8 22.4 20.6 23.9\n",
      " 22.  11.9]\n"
     ]
    }
   ],
   "source": [
    "boston = load_boston()\n",
    "print(boston.keys())\n",
    "print(boston.feature_names)\n",
    "print(boston.data)\n",
    "print(boston.target)"
   ]
  },
  {
   "cell_type": "markdown",
   "metadata": {},
   "source": [
    "## train:test = 7:3  학습,테스트 데이터 나누기"
   ]
  },
  {
   "cell_type": "code",
   "execution_count": 4,
   "metadata": {
    "collapsed": true
   },
   "outputs": [],
   "source": [
    "X_train, X_test, Y_train, Y_test = train_test_split(boston.data, boston.target, test_size=0.3)"
   ]
  },
  {
   "cell_type": "code",
   "execution_count": 5,
   "metadata": {
    "scrolled": true
   },
   "outputs": [
    {
     "data": {
      "text/plain": [
       "array([21.7, 25. , 17.2, 19.4, 41.7, 20.7, 21.6, 23.1, 20.5, 16.6, 22.8,\n",
       "       23.1, 24.1, 10.2, 23.9, 15.6, 25.3, 23.6, 21.7, 14.1, 13.9, 23.3,\n",
       "       34.9,  7.4, 50. , 31.5, 24.1, 17. , 23.8, 27.1, 23.1, 17.8, 50. ,\n",
       "       16.7, 20.3, 12.1, 50. , 48.3, 50. , 30.3, 14.5, 22.2, 21.2, 16.7,\n",
       "       20.6, 36. , 33.1, 23.9, 21.9, 17.2, 19.4, 20. , 20.2, 10.2, 19.4,\n",
       "       22.9, 14. , 21.1, 22.7,  8.3, 15.1, 31.7, 15.4, 23.2, 33.4, 50. ,\n",
       "       43.1, 22. , 23.7, 19.3, 22.4, 50. , 16.1, 23.1, 20.1, 31.6, 12.7,\n",
       "       13.8, 24.3, 28.4, 20.4, 26.4, 46.7, 13.8, 20. , 50. , 13.1, 14.3,\n",
       "       11.9, 19.5, 33.2, 17.5, 23. , 18.2, 33.2,  7.5, 17.1, 19. , 22.5,\n",
       "       27.1,  8.4, 17.1, 50. , 14.4, 13.1, 28. , 24.4, 18.4, 24.8, 19.1,\n",
       "       17.4, 19.9, 14.1, 33.1, 17.8, 19.7, 32.4, 26.6, 10.9, 15. , 25. ,\n",
       "       12.7, 22.9, 34.9, 32.2, 16.1, 13.5, 21.7, 17.1, 28.4, 11.8, 20.6,\n",
       "       30.7, 15.3, 13.6, 36.5, 18.9,  9.5, 22.7, 19.8, 41.3, 25.1, 22.3,\n",
       "       31. , 30.8, 23.8, 15.2, 17.9, 13.8, 19. , 38.7, 33.8])"
      ]
     },
     "execution_count": 5,
     "metadata": {},
     "output_type": "execute_result"
    }
   ],
   "source": [
    "Y_test"
   ]
  },
  {
   "cell_type": "markdown",
   "metadata": {},
   "source": [
    "## RandomForest 모델 생성"
   ]
  },
  {
   "cell_type": "code",
   "execution_count": 6,
   "metadata": {
    "collapsed": true
   },
   "outputs": [],
   "source": [
    "from sklearn.ensemble import RandomForestRegressor"
   ]
  },
  {
   "cell_type": "code",
   "execution_count": 7,
   "metadata": {},
   "outputs": [
    {
     "data": {
      "text/plain": [
       "array([10.4, 22. , 23.1,  5. , 18.5, 20.1, 19.4, 13.4, 17.5, 30.1, 11.7,\n",
       "       20. , 23.3, 23. , 22.5, 28.5, 14.9, 24.4,  8.7,  7.2, 24. , 24.4,\n",
       "       12.8, 23. , 17.7, 18.9,  8.8, 23.6, 29.9,  8.4, 26.2, 34.7, 16.2,\n",
       "       50. , 21.2, 22. ,  8.5, 20.1, 13.4, 21.5, 15.2, 21. , 26.5, 20. ,\n",
       "       18.5, 13.1, 37.3, 36.2, 19.8, 11.5, 24.5, 12.5, 27.5, 14.4, 23.4,\n",
       "       19.1, 20.6, 28.2, 19.6, 23.8, 14.1, 15.6, 19.5, 14.9, 18.5, 23.9,\n",
       "       19.9, 29.6, 18.6, 29.1, 21.2, 36.2,  7.2, 19.6, 23.2, 42.3, 21.4,\n",
       "       22.2, 21.8, 24.7, 24.5, 22.6, 19.6, 25. , 21.4, 18.5, 29.8, 10.2,\n",
       "       14.6, 23.7, 22.2,  7.2, 24.7, 22.6, 17.4, 35.4, 20.6, 19.4, 10.4,\n",
       "       25. , 19.8, 23.3, 19.3, 22.8, 14.2, 16.2, 44.8, 50. , 26.4, 21.4,\n",
       "       13.8,  9.6, 16.8, 17.5, 23.2, 44. , 46. , 17.8, 28.1, 27.5, 27.5,\n",
       "       17.6, 27.5, 19.3, 10.8, 23.7, 23.3,  5. , 21. , 15.2, 27.9, 19.1,\n",
       "       19.6, 35.1, 21.2, 29.4, 24. , 15.6, 17.3, 34.6, 37. , 29.8, 21.4,\n",
       "       16.1, 30.1, 22.6, 22. , 18.4, 15.6, 20.1, 11.9, 12.6, 16.6, 15.7,\n",
       "       28.7, 23.2, 32. , 19.7, 16.8, 28.6, 20.3, 32.5, 23.1, 12. , 19.4,\n",
       "       19.2, 11.7, 13.8, 23.7, 43.5, 13.1, 19.6, 18.9, 18.1, 24.5, 13.2,\n",
       "       18.7, 10.9, 48.8, 13.5, 22.2, 50. , 13.3,  6.3, 11.3, 13.9, 31.1,\n",
       "       21.2, 33.4, 23.4, 13.3, 20.2, 39.8, 20.3, 37.2, 24.8, 35.4, 26.7,\n",
       "       21.4, 17.8, 19.5, 29. , 24.8, 20.9, 25. , 22. , 16.3, 24.7, 32. ,\n",
       "       48.5, 14.9, 50. , 18.2, 17.2, 23.5, 29.6, 29. , 20.6, 21. , 26.6,\n",
       "       12.3,  8.5, 16. , 25.2, 24.8, 22.1, 16.5, 22.4, 42.8, 14.3, 21.8,\n",
       "        5.6, 24.4, 11. , 15.6, 16.4, 21.7, 37.6, 36.4, 23.8, 22.8, 28.7,\n",
       "       18.7, 16.5, 25. , 19.9, 20.5, 22.5, 20.5, 32.7, 18.8, 13. , 18.6,\n",
       "        8.1, 19.9, 20.8, 20.8, 24.2, 18.3, 18. , 24.6, 15. , 17.4, 20.8,\n",
       "       19.3, 22.6, 20.4, 35.2, 32.9, 20.6, 19.1, 14.5, 13.3, 23.9, 18.3,\n",
       "       22.3, 19.5, 21.9, 34.9,  7. , 20.4, 12.7, 10.5, 29.1, 19.3, 36.1,\n",
       "       31.6, 25. , 43.8, 14.5, 22.6, 27.9, 22.9, 21.6, 20. , 11.8, 50. ,\n",
       "       20.3, 24.6, 23.9,  8.8, 33.3, 27. , 25. , 14.8, 17.8, 20.1, 26.6,\n",
       "       21.9, 21.1, 22. , 22. , 21.7, 13.4, 30.1, 13.4, 22.9, 20.4,  7. ,\n",
       "       18.7, 18.2, 18.8,  9.7, 14.6, 20.7, 19.2, 24.3,  8.3, 28.7, 13.6,\n",
       "       15.4, 10.5, 23.1, 50. , 37.9, 33. , 22.2, 24.3, 20.9, 31.5, 50. ,\n",
       "       45.4, 18.4, 21.7, 21.5, 24.1, 23. , 50. , 31.2, 15. , 21.7, 30.5,\n",
       "       22.8, 18.9])"
      ]
     },
     "execution_count": 7,
     "metadata": {},
     "output_type": "execute_result"
    }
   ],
   "source": [
    "rf = RandomForestRegressor()\n",
    "Y_train"
   ]
  },
  {
   "cell_type": "markdown",
   "metadata": {},
   "source": [
    "## 모델 트레이닝"
   ]
  },
  {
   "cell_type": "code",
   "execution_count": 7,
   "metadata": {},
   "outputs": [
    {
     "data": {
      "text/plain": [
       "RandomForestRegressor(bootstrap=True, criterion='mse', max_depth=None,\n",
       "           max_features='auto', max_leaf_nodes=None,\n",
       "           min_impurity_decrease=0.0, min_impurity_split=None,\n",
       "           min_samples_leaf=1, min_samples_split=2,\n",
       "           min_weight_fraction_leaf=0.0, n_estimators=10, n_jobs=1,\n",
       "           oob_score=False, random_state=None, verbose=0, warm_start=False)"
      ]
     },
     "execution_count": 7,
     "metadata": {},
     "output_type": "execute_result"
    }
   ],
   "source": [
    "# 생성된 모델을 train 데이터를 사용하여 학습시킵니다.\n",
    "rf.fit(X_train,Y_train)"
   ]
  },
  {
   "cell_type": "markdown",
   "metadata": {},
   "source": [
    "## 학습된 모델사용하여 테스트"
   ]
  },
  {
   "cell_type": "code",
   "execution_count": 8,
   "metadata": {},
   "outputs": [
    {
     "data": {
      "text/plain": [
       "array([11.76, 19.25, 30.17, 23.25, 23.18, 26.12, 12.03, 21.18, 25.42,\n",
       "       21.13, 21.66, 25.73, 33.54,  9.05, 25.25, 21.55, 29.73, 19.94,\n",
       "        9.11, 20.72, 10.2 , 23.17, 21.25, 14.7 , 32.92, 20.25, 24.1 ,\n",
       "       20.45, 20.97, 16.73, 26.61, 13.53, 43.89, 48.71, 20.68, 15.21,\n",
       "       49.85, 23.42, 20.37, 44.07, 21.91, 15.98, 19.29, 22.8 , 13.03,\n",
       "       22.46, 15.78, 20.18, 19.57, 16.58, 26.76, 29.93, 22.36, 21.15,\n",
       "       34.97,  9.77, 25.34, 16.59, 20.96, 20.16, 26.85, 21.92, 31.65,\n",
       "       21.33, 31.58, 21.05, 25.73, 45.89, 16.86, 27.79, 20.53, 20.26,\n",
       "       33.46, 17.17, 21.13, 42.19, 16.04, 19.79, 20.42, 22.15, 23.24,\n",
       "       19.08, 17.7 , 16.92, 21.96, 23.14, 14.52, 19.69, 19.77, 14.14,\n",
       "       19.47, 18.79, 20.78, 23.05, 22.86, 18.25, 20.93, 12.69, 20.89,\n",
       "       18.94, 29.03, 31.82, 16.93, 25.35, 19.55, 22.74, 19.45,  9.85,\n",
       "       27.94, 20.46, 32.53, 19.33, 20.45, 20.95, 17.05, 23.02, 15.92,\n",
       "       12.16, 27.22, 24.62, 15.72, 19.14, 20.57,  8.77, 15.47, 22.24,\n",
       "       15.79, 27.73, 12.37, 23.19, 17.25, 13.94, 17.95, 16.46, 19.57,\n",
       "       35.71, 19.58, 17.06, 20.83, 10.71, 48.62, 26.1 , 20.33, 18.82,\n",
       "       23.61, 14.09, 48.57, 32.1 , 18.96, 20.1 , 11.98, 20.88])"
      ]
     },
     "execution_count": 8,
     "metadata": {},
     "output_type": "execute_result"
    }
   ],
   "source": [
    "# test 데이터를 사용하여 모델 test를 진행합니다.\n",
    "rf.predict(X_test)"
   ]
  },
  {
   "cell_type": "markdown",
   "metadata": {},
   "source": [
    "## Accuracy 확인하기"
   ]
  },
  {
   "cell_type": "code",
   "execution_count": 9,
   "metadata": {
    "collapsed": true
   },
   "outputs": [],
   "source": [
    "from sklearn.metrics import mean_squared_error"
   ]
  },
  {
   "cell_type": "code",
   "execution_count": 10,
   "metadata": {},
   "outputs": [
    {
     "data": {
      "text/plain": [
       "23.74893421052632"
      ]
     },
     "execution_count": 10,
     "metadata": {},
     "output_type": "execute_result"
    }
   ],
   "source": [
    "#MSE\n",
    "mean_squared_error(Y_test, rf.predict(X_test))"
   ]
  },
  {
   "cell_type": "code",
   "execution_count": 11,
   "metadata": {
    "scrolled": true
   },
   "outputs": [
    {
     "data": {
      "text/plain": [
       "0.7073254970510515"
      ]
     },
     "execution_count": 11,
     "metadata": {},
     "output_type": "execute_result"
    }
   ],
   "source": [
    "#R square\n",
    "rf.score(X_test,Y_test)"
   ]
  },
  {
   "cell_type": "markdown",
   "metadata": {},
   "source": [
    "## feature importance 보기"
   ]
  },
  {
   "cell_type": "code",
   "execution_count": 12,
   "metadata": {
    "scrolled": true
   },
   "outputs": [
    {
     "data": {
      "text/plain": [
       "array([1.97284695e-02, 1.20702267e-03, 6.12129908e-03, 7.51610509e-05,\n",
       "       1.51618254e-02, 3.14948168e-01, 2.33377993e-02, 4.30652672e-02,\n",
       "       1.46117566e-03, 9.90974054e-03, 9.06181328e-03, 1.55795826e-02,\n",
       "       5.40342675e-01])"
      ]
     },
     "execution_count": 12,
     "metadata": {},
     "output_type": "execute_result"
    }
   ],
   "source": [
    "importances = rf.feature_importances_\n",
    "importances"
   ]
  },
  {
   "cell_type": "code",
   "execution_count": 13,
   "metadata": {},
   "outputs": [
    {
     "data": {
      "text/plain": [
       "array([ 3,  1,  8,  2, 10,  9,  4, 11,  0,  6,  7,  5, 12], dtype=int64)"
      ]
     },
     "execution_count": 13,
     "metadata": {},
     "output_type": "execute_result"
    }
   ],
   "source": [
    "# 그래프로 표현해보기\n",
    "\n",
    "import numpy as np\n",
    "\n",
    "indices = np.argsort(importances)\n",
    "indices"
   ]
  },
  {
   "cell_type": "code",
   "execution_count": 14,
   "metadata": {
    "scrolled": false
   },
   "outputs": [
    {
     "data": {
      "image/png": "[encoded data removed]",
      "text/plain": [
       "<matplotlib.figure.Figure at 0x1ccf6a3b048>"
      ]
     },
     "metadata": {},
     "output_type": "display_data"
    }
   ],
   "source": [
    "import matplotlib.pyplot as plt\n",
    "\n",
    "plt.figure(1)\n",
    "plt.title('Feature Importances')\n",
    "plt.barh(range(len(indices)), importances[indices], color='b', align='center')\n",
    "plt.yticks(range(len(indices)), [boston.feature_names[i] for i in indices])\n",
    "plt.xlabel('Relative Importance')\n",
    "plt.show()"
   ]
  }
 ],
 "metadata": {
  "kernelspec": {
   "display_name": "Python 3",
   "language": "python",
   "name": "python3"
  },
  "language_info": {
   "codemirror_mode": {
    "name": "ipython",
    "version": 3
   },
   "file_extension": ".py",
   "mimetype": "text/x-python",
   "name": "python",
   "nbconvert_exporter": "python",
   "pygments_lexer": "ipython3",
   "version": "3.6.3"
  }
 },
 "nbformat": 4,
 "nbformat_minor": 2
}
