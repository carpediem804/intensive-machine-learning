{
 "cells": [
  {
   "cell_type": "markdown",
   "metadata": {},
   "source": [
    "# 7-2.Pandas_DataFrame\n",
    "\n",
    "    DataFrame은 표 같은 스프레드시트 형식의 자료구조로 여러개의 행과 열로 구성돼 있다.\n",
    "    각 행과 열에는 서로 다른 데이터구조(숫자,문자열,불리언 등)을 담을 수 있다.\n",
    "    DataFrame의 각 행과 열은 Series로 구성돼 있다.\n",
    "    자세한사항은 다큐멘테이션 참조!!\n",
    "    https://pandas.pydata.org/pandas-docs/stable/\n",
    "    \n",
    "    1. DataFrame 생성\n",
    "    2. DataFrame 인덱싱\n",
    "    3. DataFrame 삭제"
   ]
  },
  {
   "cell_type": "code",
   "execution_count": null,
   "metadata": {
    "collapsed": true
   },
   "outputs": [],
   "source": [
    "from IPython.display import display"
   ]
  },
  {
   "cell_type": "markdown",
   "metadata": {},
   "source": [
    "## 1. DataFrame 생성"
   ]
  },
  {
   "cell_type": "code",
   "execution_count": 1,
   "metadata": {},
   "outputs": [
    {
     "data": {
      "text/html": [
       "<div>\n",
       "<style>\n",
       "    .dataframe thead tr:only-child th {\n",
       "        text-align: right;\n",
       "    }\n",
       "\n",
       "    .dataframe thead th {\n",
       "        text-align: left;\n",
       "    }\n",
       "\n",
       "    .dataframe tbody tr th {\n",
       "        vertical-align: top;\n",
       "    }\n",
       "</style>\n",
       "<table border=\"1\" class=\"dataframe\">\n",
       "  <thead>\n",
       "    <tr style=\"text-align: right;\">\n",
       "      <th></th>\n",
       "      <th>name</th>\n",
       "      <th>age</th>\n",
       "      <th>sex</th>\n",
       "      <th>height</th>\n",
       "    </tr>\n",
       "  </thead>\n",
       "  <tbody>\n",
       "    <tr>\n",
       "      <th>0</th>\n",
       "      <td>김씨</td>\n",
       "      <td>17</td>\n",
       "      <td>남</td>\n",
       "      <td>170</td>\n",
       "    </tr>\n",
       "    <tr>\n",
       "      <th>1</th>\n",
       "      <td>이씨</td>\n",
       "      <td>26</td>\n",
       "      <td>여</td>\n",
       "      <td>160</td>\n",
       "    </tr>\n",
       "    <tr>\n",
       "      <th>2</th>\n",
       "      <td>박씨</td>\n",
       "      <td>45</td>\n",
       "      <td>남</td>\n",
       "      <td>180</td>\n",
       "    </tr>\n",
       "  </tbody>\n",
       "</table>\n",
       "</div>"
      ],
      "text/plain": [
       "  name  age sex  height\n",
       "0   김씨   17   남     170\n",
       "1   이씨   26   여     160\n",
       "2   박씨   45   남     180"
      ]
     },
     "metadata": {},
     "output_type": "display_data"
    }
   ],
   "source": [
    "import pandas as pd\n",
    "\n",
    "# 1. 여러개의 리스트로 DataFrame(df) 구성\n",
    "name = ['김씨', '이씨', '박씨']\n",
    "age = [17,26,45]\n",
    "sex = [\"남\",\"여\",\"남\"]\n",
    "height = [170, 160, 180]\n",
    "\n",
    "df = pd.DataFrame({'name':name, 'age':age,         \n",
    "                      'sex':sex, 'height' : height},\n",
    "                      columns = ['name','age','sex','height'])\n",
    "display(df)"
   ]
  },
  {
   "cell_type": "code",
   "execution_count": 2,
   "metadata": {},
   "outputs": [
    {
     "data": {
      "text/html": [
       "<div>\n",
       "<style>\n",
       "    .dataframe thead tr:only-child th {\n",
       "        text-align: right;\n",
       "    }\n",
       "\n",
       "    .dataframe thead th {\n",
       "        text-align: left;\n",
       "    }\n",
       "\n",
       "    .dataframe tbody tr th {\n",
       "        vertical-align: top;\n",
       "    }\n",
       "</style>\n",
       "<table border=\"1\" class=\"dataframe\">\n",
       "  <thead>\n",
       "    <tr style=\"text-align: right;\">\n",
       "      <th></th>\n",
       "      <th>name</th>\n",
       "      <th>age</th>\n",
       "      <th>sex</th>\n",
       "      <th>height</th>\n",
       "    </tr>\n",
       "  </thead>\n",
       "  <tbody>\n",
       "    <tr>\n",
       "      <th>0</th>\n",
       "      <td>김씨</td>\n",
       "      <td>17</td>\n",
       "      <td>남</td>\n",
       "      <td>170</td>\n",
       "    </tr>\n",
       "    <tr>\n",
       "      <th>1</th>\n",
       "      <td>이씨</td>\n",
       "      <td>26</td>\n",
       "      <td>여</td>\n",
       "      <td>160</td>\n",
       "    </tr>\n",
       "    <tr>\n",
       "      <th>2</th>\n",
       "      <td>박씨</td>\n",
       "      <td>45</td>\n",
       "      <td>남</td>\n",
       "      <td>180</td>\n",
       "    </tr>\n",
       "  </tbody>\n",
       "</table>\n",
       "</div>"
      ],
      "text/plain": [
       "  name  age sex  height\n",
       "0   김씨   17   남     170\n",
       "1   이씨   26   여     160\n",
       "2   박씨   45   남     180"
      ]
     },
     "metadata": {},
     "output_type": "display_data"
    }
   ],
   "source": [
    "# 2. 딕셔너리를 이용하여 df 구성\n",
    "dic = {'name':name, 'age':age, 'sex':sex, 'height' : height}\n",
    "df2 = pd.DataFrame(dic, index = ['a', 'b', 'c'],\n",
    "                      columns = ['name','age','sex','height'])\n",
    "display(df)"
   ]
  },
  {
   "cell_type": "code",
   "execution_count": null,
   "metadata": {
    "collapsed": true
   },
   "outputs": [],
   "source": [
    "# 3. Series를 이용하여 df 구성추가 \n",
    "weight = pd.Series([70, 60, 45] , index = ['a', 'b', 'c'] ) \n",
    "df2['weight'] = weight\n",
    "display(df2)"
   ]
  },
  {
   "cell_type": "code",
   "execution_count": null,
   "metadata": {
    "collapsed": true
   },
   "outputs": [],
   "source": [
    "# 4. numpy 객체를 이용하여 df 구성\n",
    "import numpy as np\n",
    "\n",
    "df3 = pd.DataFrame(np.arange(12).reshape( (3,4) ),\n",
    "                      columns = ['a','b','c','d'])\n",
    "display(df3)"
   ]
  },
  {
   "cell_type": "markdown",
   "metadata": {},
   "source": [
    "## 2. DataFrame 인덱싱"
   ]
  },
  {
   "cell_type": "code",
   "execution_count": null,
   "metadata": {
    "collapsed": true
   },
   "outputs": [],
   "source": [
    "import pandas as pd\n",
    "import numpy as np\n",
    "\n",
    "df3 = pd.DataFrame(np.arange(12).reshape( (3,4) ),\n",
    "                      columns = ['a','b','c','d'], index = ['A', 'B', 'C'])\n",
    "display(df3)"
   ]
  },
  {
   "cell_type": "code",
   "execution_count": null,
   "metadata": {
    "collapsed": true
   },
   "outputs": [],
   "source": [
    "# 1. 칼럼(열) 색인\n",
    "display(df3.b)  \n",
    "display(df3['b'])  \n",
    "display(df3['b'][2])"
   ]
  },
  {
   "cell_type": "code",
   "execution_count": null,
   "metadata": {
    "collapsed": true
   },
   "outputs": [],
   "source": [
    "# 2. 조건식(불리언 식) 검색\n",
    "result = df3[df3 > 10]\n",
    "display(result) # 10이하 NaN 처리 "
   ]
  },
  {
   "cell_type": "code",
   "execution_count": null,
   "metadata": {
    "collapsed": true
   },
   "outputs": [],
   "source": [
    "# 3. DF 행렬 검색 \n",
    "# .iloc : integer positon를 통해 값을 찾을 수 있다. label로는 찾을 수 없다\n",
    "# .loc : label 을 통해 값을 찾을 수 있다. integer position로는 찾을 수 없다.\n",
    "\n",
    "# 1-1) iloc 속성 이용 : 단일행,열 참조 \n",
    "display(df3.iloc[1]) # ix[행 번호]\n",
    "display(df3.iloc[1,2]) # ix[행 번호, 열 번호] \n"
   ]
  },
  {
   "cell_type": "code",
   "execution_count": null,
   "metadata": {
    "collapsed": true
   },
   "outputs": [],
   "source": [
    "# 1-2)iloc 속성 이용 : 복수 행과열 참조 \n",
    "display(df3.iloc[ [0,1], [1,2] ]) # [[행], [열]]"
   ]
  },
  {
   "cell_type": "code",
   "execution_count": null,
   "metadata": {
    "collapsed": true
   },
   "outputs": [],
   "source": [
    "# 2-1) loc 속성 이용 : 단일행, 열 참조\n",
    "display(df3.loc['C'])\n",
    "display(df3.loc['C','a'])"
   ]
  },
  {
   "cell_type": "code",
   "execution_count": null,
   "metadata": {
    "collapsed": true
   },
   "outputs": [],
   "source": [
    "# 2-2)loc 속성 이용 : 복수 행과열 참조 \n",
    "display(df3.loc[ ['C','A'], ['a','b'] ]) # [[행], [열]]"
   ]
  },
  {
   "cell_type": "code",
   "execution_count": null,
   "metadata": {
    "collapsed": true
   },
   "outputs": [],
   "source": [
    "# 3) 칼럼으로 참조\n",
    "display(df3['a']) # a칼럼 : 단일칼럼 \n",
    "col_name = ['a', 'c']\n",
    "display(df3[col_name]) # [[a, c]] 칼럼 : 복수칼럼 "
   ]
  },
  {
   "cell_type": "code",
   "execution_count": null,
   "metadata": {
    "collapsed": true,
    "scrolled": false
   },
   "outputs": [],
   "source": [
    "# 4) 데이터 프레임의 컬럼이름 알아보기\n",
    "display(df3.columns)"
   ]
  },
  {
   "cell_type": "markdown",
   "metadata": {},
   "source": [
    "## 3. DataFrame 삭제"
   ]
  },
  {
   "cell_type": "code",
   "execution_count": null,
   "metadata": {
    "collapsed": true
   },
   "outputs": [],
   "source": [
    "df4 = df3.drop('A', axis = 0 ) # axis = 0 : A행 삭제 \n",
    "display(df4)"
   ]
  },
  {
   "cell_type": "code",
   "execution_count": null,
   "metadata": {
    "collapsed": true
   },
   "outputs": [],
   "source": [
    "df5 = df3.drop('c', axis = 1) # axis = 1 : 열기준   , 'c'열 삭제\n",
    "display(df5)"
   ]
  }
 ],
 "metadata": {
  "kernelspec": {
   "display_name": "Python 3",
   "language": "python",
   "name": "python3"
  },
  "language_info": {
   "codemirror_mode": {
    "name": "ipython",
    "version": 3
   },
   "file_extension": ".py",
   "mimetype": "text/x-python",
   "name": "python",
   "nbconvert_exporter": "python",
   "pygments_lexer": "ipython3",
   "version": "3.6.3"
  }
 },
 "nbformat": 4,
 "nbformat_minor": 2
}
