{
 "cells": [
  {
   "cell_type": "markdown",
   "metadata": {},
   "source": [
    "\n",
    "# 4. 클래스(class) \n",
    "    -구성요소:멤버 변수 , 생성자, 멤버 함수\n",
    "    \n",
    "    class 클래스명:\n",
    "        멤버변수:저장역할\n",
    "        생성자:객체 생성 역할\n",
    "        멤버함수:기능 수행\n"
   ]
  },
  {
   "cell_type": "code",
   "execution_count": 1,
   "metadata": {},
   "outputs": [
    {
     "name": "stdout",
     "output_type": "stream",
     "text": [
      "30\n"
     ]
    }
   ],
   "source": [
    "#함수 정의\n",
    "def Adder(x,y):\n",
    "    add = x+y\n",
    "    return add\n",
    "\n",
    "# 함수 호출\n",
    "r = Adder(10,20)\n",
    "print(r)"
   ]
  },
  {
   "cell_type": "code",
   "execution_count": 3,
   "metadata": {
    "collapsed": true
   },
   "outputs": [],
   "source": [
    "# class 정의  사용자정의 class\n",
    "class Today :\n",
    "    # 1. 멤버변수 = 명사\n",
    "    year = None\n",
    "    month = None\n",
    "    day = 0\n",
    "    \n",
    "    # 2. 생성자: 객체 생성\n",
    "    def __init__(self, year, month, day):\n",
    "        # 객체 생성, 멤버변수 초기화\n",
    "        self.year = year \n",
    "        self.month = month\n",
    "        self.day = day\n",
    "        \n",
    "    # 3. 멤버 함수 : 기능 정의(멤버변수 조작) - 동사\n",
    "    def display(self):\n",
    "        #출력한다.\n",
    "        print(\"%d년-%d월-%d일\"%(self.year, self.month, self.day))\n",
    "    \n",
    "    # self : 기본인수 - 멤버변수 접근을 위한 참조변수\n",
    "    "
   ]
  },
  {
   "cell_type": "code",
   "execution_count": null,
   "metadata": {
    "collapsed": true
   },
   "outputs": [],
   "source": [
    "# 객체 생성  1. Class 정의 -> 2. object 객체(생성자) -> 3. 참조변수\n",
    "        \n",
    "today = Today(2018,3,5) #객체 생성\n",
    "today.display() \n",
    "\n",
    "#참조변수.멤버변수\n",
    "print(today.year)\n",
    "print(today.month)\n",
    "print(today.day)"
   ]
  },
  {
   "cell_type": "code",
   "execution_count": null,
   "metadata": {
    "collapsed": true
   },
   "outputs": [],
   "source": [
    "# 두번째 객체 생성\n",
    "today2 = Today(2018,3,6)\n",
    "today2.display()"
   ]
  },
  {
   "cell_type": "code",
   "execution_count": null,
   "metadata": {
    "collapsed": true
   },
   "outputs": [],
   "source": [
    "# 내장 class - python 제공 \n",
    "import datetime\n",
    "\n",
    "# help(datetime.date)\n",
    "today3 = datetime.date(2018,3,5) # 생성자 : 객체 생성\n",
    "print(today3.year , today3.month, today3.day) #멤버변수 호출"
   ]
  },
  {
   "cell_type": "code",
   "execution_count": null,
   "metadata": {
    "collapsed": true
   },
   "outputs": [],
   "source": [
    "# 참조변수.멤버함수()\n",
    "week = today3.weekday()\n",
    "print(week) #0~4 : 평일, 5~6 : 주말"
   ]
  },
  {
   "cell_type": "code",
   "execution_count": null,
   "metadata": {
    "collapsed": true
   },
   "outputs": [],
   "source": [
    "# 사용자정의 class - Car class 예\n",
    "# 단계1 : Class 정의\n",
    "class Car :\n",
    "    # 멤버변수 : 명사\n",
    "    door = 0\n",
    "    cc = 0\n",
    "    name = None # Null(없음)\n",
    "    \n",
    "    # 생성자 : 객체 생성(함수 유사) + 멤버변수 초기화\n",
    "    def __init__(self, door, cc, name):\n",
    "        self.door = door\n",
    "        self.cc = cc\n",
    "        self.name = name\n",
    "    \n",
    "    # 멤버 함수 : 동사\n",
    "    def display(self):\n",
    "        print(\"%s는 엔진이 %dcc이고, 문짝은 %d개 이다.\"%(self.name, self.cc,self.door))"
   ]
  },
  {
   "cell_type": "code",
   "execution_count": null,
   "metadata": {
    "collapsed": true
   },
   "outputs": [],
   "source": [
    "# 단계2 : Object 생성\n",
    "# 참조변수 = 생성자()\n",
    "car = Car(4, 2500, 'Sonata') # 생성자 호출"
   ]
  },
  {
   "cell_type": "code",
   "execution_count": null,
   "metadata": {
    "collapsed": true
   },
   "outputs": [],
   "source": [
    "# 단계3 : 참조변수 이용\n",
    "car.display()"
   ]
  },
  {
   "cell_type": "code",
   "execution_count": null,
   "metadata": {
    "collapsed": true
   },
   "outputs": [],
   "source": [
    "print(car.cc)\n",
    "print(car.name)"
   ]
  },
  {
   "cell_type": "code",
   "execution_count": null,
   "metadata": {
    "collapsed": true
   },
   "outputs": [],
   "source": [
    "car.cc = 2000 # 수정 \n",
    "print(car.cc)\n",
    "car.display()"
   ]
  },
  {
   "cell_type": "code",
   "execution_count": null,
   "metadata": {
    "collapsed": true
   },
   "outputs": [],
   "source": [
    "# 두번째 자동차 객체\n",
    "car2 = Car(5,3000,'Santape')\n",
    "car2.display()"
   ]
  }
 ],
 "metadata": {
  "kernelspec": {
   "display_name": "Python 3",
   "language": "python",
   "name": "python3"
  },
  "language_info": {
   "codemirror_mode": {
    "name": "ipython",
    "version": 3
   },
   "file_extension": ".py",
   "mimetype": "text/x-python",
   "name": "python",
   "nbconvert_exporter": "python",
   "pygments_lexer": "ipython3",
   "version": "3.6.3"
  }
 },
 "nbformat": 4,
 "nbformat_minor": 2
}
