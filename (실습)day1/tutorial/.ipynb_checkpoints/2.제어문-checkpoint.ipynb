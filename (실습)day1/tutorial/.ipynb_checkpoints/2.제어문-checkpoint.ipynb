{
 "cells": [
  {
   "cell_type": "markdown",
   "metadata": {},
   "source": [
    "# 2.제어문\n",
    "\n",
    "1. If\n",
    "2. While\n",
    "3. for"
   ]
  },
  {
   "cell_type": "markdown",
   "metadata": {},
   "source": [
    "## 1. if 문\n",
    "if 조건문:\n",
    "\n",
    "    (들여쓰기)수행할 문장1\n",
    "    (들여쓰기)수행할 문장2\n",
    "   \n",
    "else:\n",
    "\n",
    "    (들여쓰기)수행할 문장A\n",
    "    (들여쓰기)수행할 문장B\n",
    "    \n",
    "들여쓰기 = 띄어쓰기 4"
   ]
  },
  {
   "cell_type": "code",
   "execution_count": 1,
   "metadata": {},
   "outputs": [
    {
     "name": "stdout",
     "output_type": "stream",
     "text": [
      "버스를 탄다\n"
     ]
    }
   ],
   "source": [
    "# 예제\n",
    "\n",
    "money = 2000\n",
    "\n",
    "if money >=1000 :\n",
    "    print(\"버스를 탄다\")\n",
    "else :\n",
    "    print(\"걸어 간다\")"
   ]
  },
  {
   "cell_type": "code",
   "execution_count": null,
   "metadata": {
    "collapsed": true
   },
   "outputs": [],
   "source": [
    "# 조건문\n",
    "\n",
    "# 참 거짓을 판단하는 문장."
   ]
  },
  {
   "cell_type": "code",
   "execution_count": null,
   "metadata": {
    "collapsed": true
   },
   "outputs": [],
   "source": [
    "# 비교연산자\n",
    "\n",
    "# x < y   x가 y보다 작다\n",
    "# x > y   x가 y보다 크다\n",
    "# x == y   x와 y가 같다\n",
    "# x != y   x와 y가 같지 않다\n",
    "# x >= y   x가 y보다 크거나 같다\n",
    "# x <= y   x가 y보다 작거나 같다\n",
    "\n",
    "x = 3\n",
    "y = 4\n",
    "\n",
    "print(x >y)\n",
    "print(x == y)"
   ]
  },
  {
   "cell_type": "code",
   "execution_count": null,
   "metadata": {
    "collapsed": true
   },
   "outputs": [],
   "source": [
    "# and, or, not\n",
    "\n",
    "# x or y    x와 y 둘중에 하나만 참이면 참이다\n",
    "# x and y   x와 y 모두 참이어야 참이다\n",
    "# not x     x가 거짓이면 참이다\n",
    "\n",
    "x = 3\n",
    "y = 4\n",
    "\n",
    "print(x>3 or y>3)\n",
    "print(x>3 and y>3)\n",
    "print(not x>3)"
   ]
  },
  {
   "cell_type": "code",
   "execution_count": null,
   "metadata": {
    "collapsed": true
   },
   "outputs": [],
   "source": [
    "# 다양한 조건문 추가 (elif)\n",
    "\n",
    "money = 6000\n",
    "\n",
    "if money > 10000 :\n",
    "    print(\"택시를 타라\")\n",
    "elif money >5000 :\n",
    "    print(\"버스를 타라\")\n",
    "else :\n",
    "    print(\"걸어가라\")"
   ]
  },
  {
   "cell_type": "markdown",
   "metadata": {},
   "source": [
    "## 2.While 문\n",
    "\n",
    "while <조건문>:\n",
    "\n",
    "    <수행할 문장1>\n",
    "    <수행할 문장2>\n",
    "    <수행할 문장3>\n",
    "    ...\n",
    "    \n",
    "조건문이 False 가 될 때까지 반복 수행"
   ]
  },
  {
   "cell_type": "code",
   "execution_count": null,
   "metadata": {
    "collapsed": true,
    "scrolled": true
   },
   "outputs": [],
   "source": [
    "# example\n",
    "\n",
    "number = 0\n",
    "\n",
    "while number <10 :\n",
    "    print(number)\n",
    "    number = number + 1\n",
    "    "
   ]
  },
  {
   "cell_type": "code",
   "execution_count": null,
   "metadata": {
    "collapsed": true
   },
   "outputs": [],
   "source": [
    "# while 문 강제로 빠져나가기 (break)\n",
    "\n",
    "n_coffee = 10\n",
    "pay_coffee = 500\n",
    "money = 100000\n",
    "\n",
    "while money > 500 :\n",
    "    print(\"커피를 산다\")\n",
    "    n_coffee -= 1\n",
    "    print(\"남은 커피 수량 : %s\" %n_coffee )\n",
    "    if n_coffee == 0 :\n",
    "        print(\"남은 수량이 없습니다.\")\n",
    "        break\n",
    "\n"
   ]
  },
  {
   "cell_type": "code",
   "execution_count": null,
   "metadata": {
    "collapsed": true
   },
   "outputs": [],
   "source": [
    "# 남은 코드 실행하지않고 처음으로 돌아가기(continue)\n",
    "\n",
    "a = 0\n",
    "\n",
    "while a < 10 :\n",
    "    a += 1\n",
    "    if a % 2 == 0 :\n",
    "        continue\n",
    "    print(a)"
   ]
  },
  {
   "cell_type": "markdown",
   "metadata": {},
   "source": [
    "## 3. for 문\n",
    "\n",
    "for 변수 in 리스트(또는 튜플, 문자열):\n",
    "    \n",
    "    수행할 문장1\n",
    "    수행할 문장2\n",
    "    ..."
   ]
  },
  {
   "cell_type": "code",
   "execution_count": null,
   "metadata": {
    "collapsed": true
   },
   "outputs": [],
   "source": [
    "# 예제\n",
    "\n",
    "test_list = ['one', 'two', 'three']\n",
    "\n",
    "for i in test_list :\n",
    "    print(i)"
   ]
  },
  {
   "cell_type": "code",
   "execution_count": null,
   "metadata": {
    "collapsed": true
   },
   "outputs": [],
   "source": [
    "# for문과 range 함수\n",
    "\n",
    "a = range(10)\n",
    "print(a)\n",
    "print(list(a))"
   ]
  },
  {
   "cell_type": "code",
   "execution_count": null,
   "metadata": {
    "collapsed": true
   },
   "outputs": [],
   "source": [
    "b = range(1,11) # range(시작, 끝 -1)\n",
    "print(b)\n",
    "print(list(b))"
   ]
  },
  {
   "cell_type": "code",
   "execution_count": null,
   "metadata": {
    "collapsed": true
   },
   "outputs": [],
   "source": [
    "# range 응용\n",
    "\n",
    "sum = 0\n",
    "for i in range(1,11) :\n",
    "    sum += i\n",
    "    print(sum)"
   ]
  },
  {
   "cell_type": "code",
   "execution_count": null,
   "metadata": {
    "collapsed": true,
    "scrolled": true
   },
   "outputs": [],
   "source": [
    "# range() , len() 응용\n",
    "\n",
    "scores = [90,80,40,50,60]\n",
    "for i in range(len(scores)) :\n",
    "    if scores[i] < 80 :\n",
    "        print(\"점수가 %s 이므로 재시험 입니다.\"%scores[i])"
   ]
  },
  {
   "cell_type": "code",
   "execution_count": null,
   "metadata": {
    "collapsed": true
   },
   "outputs": [],
   "source": [
    "# 리스트 내의 for문 포함시키기\n",
    "# [표현식 for 항목 in 반복가능객체 if 조건]\n",
    "a = [1,2,3,4]\n",
    "\n",
    "result = [] \n",
    "for num in a :\n",
    "    result.append(num*3)\n",
    "print(result)"
   ]
  },
  {
   "cell_type": "code",
   "execution_count": null,
   "metadata": {
    "collapsed": true
   },
   "outputs": [],
   "source": [
    "a = [1,2,3,4]\n",
    "\n",
    "result = [num*3 for num in a]\n",
    "print(result)"
   ]
  },
  {
   "cell_type": "code",
   "execution_count": null,
   "metadata": {
    "collapsed": true
   },
   "outputs": [],
   "source": [
    "# 예제 구구단 리스트 만들기\n",
    "result = [x*y for x in range(2,10)\n",
    "              for y in range(1,10)]\n",
    "print(result)"
   ]
  }
 ],
 "metadata": {
  "kernelspec": {
   "display_name": "Python 3",
   "language": "python",
   "name": "python3"
  },
  "language_info": {
   "codemirror_mode": {
    "name": "ipython",
    "version": 3
   },
   "file_extension": ".py",
   "mimetype": "text/x-python",
   "name": "python",
   "nbconvert_exporter": "python",
   "pygments_lexer": "ipython3",
   "version": "3.6.3"
  },
  "nbpresent": {
   "slides": {
    "09561521-f043-4b7c-bc02-268a76d78cf0": {
     "id": "09561521-f043-4b7c-bc02-268a76d78cf0",
     "prev": "2a40f58e-11d4-4a9a-addc-73aff22dbd4a",
     "regions": {
      "07bc68a7-e321-4494-b137-db7034339679": {
       "attrs": {
        "height": 0.8,
        "width": 0.8,
        "x": 0.1,
        "y": 0.1
       },
       "content": {
        "cell": "744af92d-6044-4a73-a292-c67b6649040b",
        "part": "whole"
       },
       "id": "07bc68a7-e321-4494-b137-db7034339679"
      }
     }
    },
    "143eca1a-d423-4238-be35-6a2e5be1ce09": {
     "id": "143eca1a-d423-4238-be35-6a2e5be1ce09",
     "prev": "ca481796-57ad-4a97-b0db-eaa47cb5f741",
     "regions": {
      "392b5354-bddd-4b9b-ab8c-21cf969fbdef": {
       "attrs": {
        "height": 0.8,
        "width": 0.8,
        "x": 0.1,
        "y": 0.1
       },
       "content": {
        "cell": "4c680282-71ea-4b33-9648-a62106edba32",
        "part": "whole"
       },
       "id": "392b5354-bddd-4b9b-ab8c-21cf969fbdef"
      }
     }
    },
    "2a40f58e-11d4-4a9a-addc-73aff22dbd4a": {
     "id": "2a40f58e-11d4-4a9a-addc-73aff22dbd4a",
     "prev": "143eca1a-d423-4238-be35-6a2e5be1ce09",
     "regions": {
      "cd7a9ec1-7f93-44a9-858e-ef3bee44f057": {
       "attrs": {
        "height": 0.8,
        "width": 0.8,
        "x": 0.1,
        "y": 0.1
       },
       "content": {
        "cell": "18b9ffde-3950-453a-8a20-3e105fcfebb3",
        "part": "whole"
       },
       "id": "cd7a9ec1-7f93-44a9-858e-ef3bee44f057"
      }
     }
    },
    "736addb5-ac66-49d7-8c88-2bdcef225df4": {
     "id": "736addb5-ac66-49d7-8c88-2bdcef225df4",
     "prev": "09561521-f043-4b7c-bc02-268a76d78cf0",
     "regions": {
      "f8df94c1-a5f4-4fca-a25c-0809d5f14e15": {
       "attrs": {
        "height": 0.8,
        "width": 0.8,
        "x": 0.1,
        "y": 0.1
       },
       "content": {
        "cell": "0d2877db-d55c-4f3c-a797-218b25f79d5b",
        "part": "whole"
       },
       "id": "f8df94c1-a5f4-4fca-a25c-0809d5f14e15"
      }
     }
    },
    "9f0c3c48-cea1-4627-8191-f7baff8f96b4": {
     "id": "9f0c3c48-cea1-4627-8191-f7baff8f96b4",
     "prev": null,
     "regions": {
      "8e95b64e-212d-454e-b547-87f289e91941": {
       "attrs": {
        "height": 0.8,
        "width": 0.8,
        "x": 0.1,
        "y": 0.1
       },
       "content": {
        "cell": "58a2dcb7-f4a3-43d8-ad17-e0a9fba06b63",
        "part": "whole"
       },
       "id": "8e95b64e-212d-454e-b547-87f289e91941"
      }
     }
    },
    "a131cb55-dd5e-4360-9766-5be8afcc7b59": {
     "id": "a131cb55-dd5e-4360-9766-5be8afcc7b59",
     "prev": "736addb5-ac66-49d7-8c88-2bdcef225df4",
     "regions": {
      "ae69cb36-4403-4e4e-960d-506f08efbfc9": {
       "attrs": {
        "height": 0.8,
        "width": 0.8,
        "x": 0.1,
        "y": 0.1
       },
       "content": {
        "cell": "81bd2f30-b0ff-47d4-beda-d3f8ac02479c",
        "part": "whole"
       },
       "id": "ae69cb36-4403-4e4e-960d-506f08efbfc9"
      }
     }
    },
    "c2275459-923d-4926-ad79-d342233ddd64": {
     "id": "c2275459-923d-4926-ad79-d342233ddd64",
     "prev": "a131cb55-dd5e-4360-9766-5be8afcc7b59",
     "regions": {
      "4761eadf-e72e-4b3f-96bd-cea26a9ef76a": {
       "attrs": {
        "height": 0.8,
        "width": 0.8,
        "x": 0.1,
        "y": 0.1
       },
       "content": {
        "cell": "aa8861ac-cb49-412f-be1b-362bcc6ece6f",
        "part": "whole"
       },
       "id": "4761eadf-e72e-4b3f-96bd-cea26a9ef76a"
      }
     }
    },
    "ca481796-57ad-4a97-b0db-eaa47cb5f741": {
     "id": "ca481796-57ad-4a97-b0db-eaa47cb5f741",
     "prev": "9f0c3c48-cea1-4627-8191-f7baff8f96b4",
     "regions": {
      "53c6d33f-0d98-40c7-bada-44da97ac87b0": {
       "attrs": {
        "height": 0.8,
        "width": 0.8,
        "x": 0.1,
        "y": 0.1
       },
       "content": {
        "cell": "b4bfaf7c-fb80-4bbb-a799-2a777e73b7c4",
        "part": "whole"
       },
       "id": "53c6d33f-0d98-40c7-bada-44da97ac87b0"
      }
     }
    },
    "d2ab9dde-7671-4b6d-abd0-efdfe617702f": {
     "id": "d2ab9dde-7671-4b6d-abd0-efdfe617702f",
     "prev": "c2275459-923d-4926-ad79-d342233ddd64",
     "regions": {
      "c74c91ab-afc5-4b03-8ba2-52ba74bf2898": {
       "attrs": {
        "height": 0.8,
        "width": 0.8,
        "x": 0.1,
        "y": 0.1
       },
       "content": {
        "cell": "70836c77-7c5a-4303-9c8e-723523484c76",
        "part": "whole"
       },
       "id": "c74c91ab-afc5-4b03-8ba2-52ba74bf2898"
      }
     }
    },
    "dded2066-00c7-4ccb-88c4-ee08936a931f": {
     "id": "dded2066-00c7-4ccb-88c4-ee08936a931f",
     "prev": "d2ab9dde-7671-4b6d-abd0-efdfe617702f",
     "regions": {
      "686c7dcb-9d82-41d7-8749-4386f714f2dd": {
       "attrs": {
        "height": 0.8,
        "width": 0.8,
        "x": 0.1,
        "y": 0.1
       },
       "content": {
        "cell": "a1c1607e-9505-4aa1-bcbc-f78987ddae0e",
        "part": "whole"
       },
       "id": "686c7dcb-9d82-41d7-8749-4386f714f2dd"
      }
     }
    }
   },
   "themes": {}
  }
 },
 "nbformat": 4,
 "nbformat_minor": 2
}
