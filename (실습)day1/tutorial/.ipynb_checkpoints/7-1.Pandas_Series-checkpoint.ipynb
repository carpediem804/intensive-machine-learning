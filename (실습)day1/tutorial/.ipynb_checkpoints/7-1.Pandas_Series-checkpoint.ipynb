{
 "cells": [
  {
   "cell_type": "markdown",
   "metadata": {},
   "source": [
    "# 7. Pandas\n",
    "\n",
    "    데이터 분석을 편하게 해주는 데이터 구조(Series, DataFrame)를 제공해준다.\n",
    "    \n",
    "    Pandas documentation : https://pandas.pydata.org/pandas-docs/stable/tutorials.html\n",
    "    \n",
    "    1. Series\n",
    "    2. DataFrame\n",
    "    3. data load & save\n",
    "    4. descriptive statistics\n",
    "    5. merge"
   ]
  },
  {
   "cell_type": "markdown",
   "metadata": {},
   "source": [
    "## 7-1. Pandas_Series\n",
    "\n",
    "    일련의 객체를 담을 수 있는 1차원 배열과 같은 자료구조.\n",
    "    특히,데이터를 쉽게 인덱싱 할 수 있도록 index 설정 기능을 가지고 있다.\n",
    "    \n",
    "    1. Series 생성\n",
    "    2. Series 연산\n",
    "    3. Series NA(None)값 처리"
   ]
  },
  {
   "cell_type": "markdown",
   "metadata": {},
   "source": [
    "## 1. Series 생성"
   ]
  },
  {
   "cell_type": "code",
   "execution_count": 1,
   "metadata": {},
   "outputs": [
    {
     "name": "stdout",
     "output_type": "stream",
     "text": [
      "0    27\n",
      "1    60\n",
      "2    15\n",
      "3    45\n",
      "dtype: int64\n",
      "age.index :  RangeIndex(start=0, stop=4, step=1)\n",
      "age.values :  [27 60 15 45]\n"
     ]
    }
   ],
   "source": [
    "from IPython.display import display\n",
    "import pandas as pd # pd.Series()\n",
    "from pandas import Series\n",
    "\n",
    "# list 이용  : 자동으로 index 설정\n",
    "age = Series([27, 60, 15, 45])\n",
    "print(age)\n",
    "print(\"age.index : \", age.index)\n",
    "print(\"age.values : \", age.values)\n"
   ]
  },
  {
   "cell_type": "code",
   "execution_count": null,
   "metadata": {
    "collapsed": true
   },
   "outputs": [],
   "source": [
    "# index 이용 : index를 설정 할 수 있다.\n",
    "\n",
    "people = Series([27, 60, 15, 45], \n",
    "              index=['김씨', '박씨','이씨', '오씨'])\n",
    "print(people)\n",
    "print(\"people.index : \", people.index)\n",
    "print(\"people.values : \", people.values)\n",
    "print(\"people[0] : \" ,people[0]) # 순번을 이용한 색인\n",
    "print(\"people['김씨'] : \" ,people['김씨']) # 인덱스를 이용한 색인\n",
    "print(\"people[people > 30] : \" ,people[people > 30]) # 불리언을 이용한 색인\n",
    "print(\"=\"*40)"
   ]
  },
  {
   "cell_type": "code",
   "execution_count": null,
   "metadata": {
    "collapsed": true
   },
   "outputs": [],
   "source": [
    "# dict 이용\n",
    "d = {'name' : '김씨', 'age' : 27, 'sex' : \"남\"}\n",
    "ser = Series(d)\n",
    "print(ser)"
   ]
  },
  {
   "cell_type": "markdown",
   "metadata": {},
   "source": [
    "## 2. Series 연산"
   ]
  },
  {
   "cell_type": "code",
   "execution_count": null,
   "metadata": {
    "collapsed": true
   },
   "outputs": [],
   "source": [
    "import pandas as pd # pd.Series()\n",
    "from pandas import Series\n",
    "\n",
    "people = Series([27, 60, 15, 45], \n",
    "              index=['김씨', '박씨','이씨', '오씨'])\n",
    "print(people)\n",
    "print(\"people.sum() : \", people.sum()) \n",
    "print(\"people.mean() : \", people.mean())\n",
    "print(\"people.std() : \", people.std())\n",
    "print(people*0.5)\n",
    "print(people**0.5) #sqrt"
   ]
  },
  {
   "cell_type": "markdown",
   "metadata": {},
   "source": [
    "## 3. Series NA(None)값 처리"
   ]
  },
  {
   "cell_type": "code",
   "execution_count": null,
   "metadata": {
    "collapsed": true
   },
   "outputs": [],
   "source": [
    "fruit1 = Series([1000, 2000, None], \n",
    "                index=['사과', '딸기','포도'])\n",
    "fruit2 = Series([1000, 3000, 2000], \n",
    "                index=['사과', '포도','배'])\n",
    "\n",
    "print(pd.isnull(fruit1)) # None -> True"
   ]
  },
  {
   "cell_type": "code",
   "execution_count": null,
   "metadata": {
    "collapsed": true
   },
   "outputs": [],
   "source": [
    "# None -> False\n",
    "print(pd.notnull(fruit1)) "
   ]
  },
  {
   "cell_type": "code",
   "execution_count": null,
   "metadata": {
    "collapsed": true
   },
   "outputs": [],
   "source": [
    "# 같은 항목끼리 산술연산\n",
    "fruit_sum = fruit1 + fruit2 \n",
    "print(fruit_sum) "
   ]
  },
  {
   "cell_type": "code",
   "execution_count": null,
   "metadata": {
    "collapsed": true
   },
   "outputs": [],
   "source": [
    "# Na값을 평균으로 대체\n",
    "result = fruit_sum.fillna(fruit_sum.mean()) # na 값은 평균에 포함되지 않음\n",
    "print(result)"
   ]
  },
  {
   "cell_type": "code",
   "execution_count": null,
   "metadata": {
    "collapsed": true
   },
   "outputs": [],
   "source": [
    "# Na값을 0 으로 대체\n",
    "result = fruit_sum.fillna(0)\n",
    "print(result)"
   ]
  }
 ],
 "metadata": {
  "kernelspec": {
   "display_name": "Python 3",
   "language": "python",
   "name": "python3"
  },
  "language_info": {
   "codemirror_mode": {
    "name": "ipython",
    "version": 3
   },
   "file_extension": ".py",
   "mimetype": "text/x-python",
   "name": "python",
   "nbconvert_exporter": "python",
   "pygments_lexer": "ipython3",
   "version": "3.6.3"
  }
 },
 "nbformat": 4,
 "nbformat_minor": 2
}
