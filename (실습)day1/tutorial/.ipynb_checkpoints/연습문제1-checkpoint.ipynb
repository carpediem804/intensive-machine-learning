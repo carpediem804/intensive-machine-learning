{
 "cells": [
  {
   "cell_type": "markdown",
   "metadata": {},
   "source": [
    "## 이 자료는 데이터를 전처리하고 EDA하는 일련의 과정을 연습하는 자료입니다.\n",
    "\n",
    "## 튜토리얼에서 알려주지 않은 방법들도 포함하고 있으니 알아 두면 좋을 것 같습니다."
   ]
  },
  {
   "cell_type": "markdown",
   "metadata": {},
   "source": [
    "# 라이브러리 임포트"
   ]
  },
  {
   "cell_type": "code",
   "execution_count": null,
   "metadata": {
    "collapsed": true
   },
   "outputs": [],
   "source": [
    "import pandas as pd\n",
    "import numpy as np\n",
    "import matplotlib.pyplot as plt\n",
    "\n",
    "from IPython.display import display"
   ]
  },
  {
   "cell_type": "markdown",
   "metadata": {},
   "source": [
    "# 데이터 로드"
   ]
  },
  {
   "cell_type": "code",
   "execution_count": null,
   "metadata": {
    "collapsed": true
   },
   "outputs": [],
   "source": [
    "raw_df = pd.read_csv('salary.csv')\n",
    "print(raw_df)"
   ]
  },
  {
   "cell_type": "code",
   "execution_count": null,
   "metadata": {
    "collapsed": true
   },
   "outputs": [],
   "source": [
    "display(raw_df)"
   ]
  },
  {
   "cell_type": "markdown",
   "metadata": {},
   "source": [
    "# EDA (Exploratory Data Analysis)"
   ]
  },
  {
   "cell_type": "markdown",
   "metadata": {},
   "source": [
    "### 데이터 첫부분만 보기"
   ]
  },
  {
   "cell_type": "code",
   "execution_count": null,
   "metadata": {
    "collapsed": true
   },
   "outputs": [],
   "source": [
    "# 기본 5줄\n",
    "display(raw_df.head())"
   ]
  },
  {
   "cell_type": "code",
   "execution_count": null,
   "metadata": {
    "collapsed": true
   },
   "outputs": [],
   "source": [
    "display(raw_df.head(3))"
   ]
  },
  {
   "cell_type": "markdown",
   "metadata": {},
   "source": [
    "### 데이터 프레임의 크기"
   ]
  },
  {
   "cell_type": "code",
   "execution_count": null,
   "metadata": {
    "collapsed": true
   },
   "outputs": [],
   "source": [
    "raw_df.shape # (행수, 열수)"
   ]
  },
  {
   "cell_type": "markdown",
   "metadata": {},
   "source": [
    "##### 활용 예"
   ]
  },
  {
   "cell_type": "code",
   "execution_count": null,
   "metadata": {
    "collapsed": true,
    "scrolled": false
   },
   "outputs": [],
   "source": [
    "row_size = raw_df.shape[0]\n",
    "col_size = raw_df.shape[1]\n",
    "\n",
    "print(row_size, col_size)"
   ]
  },
  {
   "cell_type": "markdown",
   "metadata": {},
   "source": [
    "### 컬럼 별 데이터 타입 보기"
   ]
  },
  {
   "cell_type": "code",
   "execution_count": null,
   "metadata": {
    "collapsed": true,
    "scrolled": false
   },
   "outputs": [],
   "source": [
    "print(raw_df.dtypes)"
   ]
  },
  {
   "cell_type": "markdown",
   "metadata": {},
   "source": [
    "### 컬럼 별 기초 통계량"
   ]
  },
  {
   "cell_type": "markdown",
   "metadata": {},
   "source": [
    "    pandas Dataframe 오브젝트의 describe() method를 호출하면 컬럼 별 기술 통계량을 확인할 수 있습니다.\n",
    "    \n",
    "    parameter를 아무것도 주지 않으면 numerical 컬럼만의 기술 통계량을 보여줍니다."
   ]
  },
  {
   "cell_type": "code",
   "execution_count": null,
   "metadata": {
    "collapsed": true
   },
   "outputs": [],
   "source": [
    "raw_df.describe()"
   ]
  },
  {
   "cell_type": "markdown",
   "metadata": {},
   "source": [
    "    inlcude='all' parameter를 주면 category 컬럼에 대한 기술 통계량도 함께 나타납니다.\n",
    "    \n",
    "    ** 정확히는, category 컬럼이 아니라 object 컬럼입니다. "
   ]
  },
  {
   "cell_type": "code",
   "execution_count": null,
   "metadata": {
    "collapsed": true
   },
   "outputs": [],
   "source": [
    "raw_df.describe(include='all')"
   ]
  },
  {
   "cell_type": "markdown",
   "metadata": {},
   "source": [
    "### 결측값"
   ]
  },
  {
   "cell_type": "markdown",
   "metadata": {},
   "source": [
    "    데이터에 결측값이 존재하는지 살펴봅니다.\n",
    "    \n",
    "    pandas Dataframe 오브젝트의 isna() method를 호출하면 각 값이 결측값인지 아닌지 여부를 알 수 있습니다."
   ]
  },
  {
   "cell_type": "code",
   "execution_count": null,
   "metadata": {
    "collapsed": true
   },
   "outputs": [],
   "source": [
    "raw_df.isna()"
   ]
  },
  {
   "cell_type": "markdown",
   "metadata": {},
   "source": [
    "    위 방법은 모든 값들을 출력하기 때문에, 크기가 큰 데이터에 적용하기에는 무리입니다.\n",
    "    \n",
    "    any() method는 각 컬럼 별로 True값이 적어도 하나 존재하는지 여부를 알려줍니다.\n",
    "    위에서 살펴본 isna() method와 함께 쓰면 각 컬럼 별로 결측값이 존재하는지 여부를 알 수 있습니다."
   ]
  },
  {
   "cell_type": "code",
   "execution_count": null,
   "metadata": {
    "collapsed": true
   },
   "outputs": [],
   "source": [
    "raw_df.isna().any()\n",
    "\n",
    "# Age와 Salary에 결측값 존재"
   ]
  },
  {
   "cell_type": "markdown",
   "metadata": {},
   "source": [
    "    결측값 처리는 나중에 데이터 전처리 파트에서 하겠습니다."
   ]
  },
  {
   "cell_type": "markdown",
   "metadata": {},
   "source": [
    "### 시각화"
   ]
  },
  {
   "cell_type": "code",
   "execution_count": null,
   "metadata": {
    "collapsed": true,
    "scrolled": true
   },
   "outputs": [],
   "source": [
    "raw_df['Age'].plot(kind='bar', title='Age')\n",
    "plt.show()\n",
    "\n",
    "raw_df['Salary'].plot(kind='bar', title='Salary')\n",
    "plt.show()\n",
    "\n",
    "raw_df['Country'].value_counts(dropna=False).plot(kind='bar', title='Country')\n",
    "plt.show()\n",
    "\n",
    "raw_df['Purchased'].value_counts(dropna=False).plot(kind='bar', title='Purchased')\n",
    "plt.show()\n",
    "\n",
    "\n",
    "plt.gcf().clear()"
   ]
  },
  {
   "cell_type": "markdown",
   "metadata": {},
   "source": [
    "    다음과 같이, for loop을 이용할 수도 있습니다."
   ]
  },
  {
   "cell_type": "code",
   "execution_count": null,
   "metadata": {
    "collapsed": true,
    "scrolled": true
   },
   "outputs": [],
   "source": [
    "for col_name, col in raw_df.iteritems():\n",
    "    if col.dtype == np.number:\n",
    "        col.plot(kind='bar', title=col_name)\n",
    "#         col.plot(kind='box', title=col_name)\n",
    "    else:\n",
    "        col.value_counts(dropna=False).plot(kind='bar', title=col_name)\n",
    "\n",
    "    plt.show()\n",
    "    plt.gcf().clear()"
   ]
  },
  {
   "cell_type": "markdown",
   "metadata": {},
   "source": [
    "# 데이터 전처리"
   ]
  },
  {
   "cell_type": "markdown",
   "metadata": {},
   "source": [
    "### raw_data의 복사본 만들기"
   ]
  },
  {
   "cell_type": "code",
   "execution_count": null,
   "metadata": {
    "collapsed": true
   },
   "outputs": [],
   "source": [
    "cleaned_df = raw_df.copy()"
   ]
  },
  {
   "cell_type": "markdown",
   "metadata": {},
   "source": [
    "## 결측값 제거"
   ]
  },
  {
   "cell_type": "markdown",
   "metadata": {},
   "source": [
    "    앞서 살펴봤듯이, Age와 Salary 컬럼은 결측값을 가지고 있었습니다.\n",
    "    먼저 결측값을 처리하겠습니다.\n",
    "    \n",
    "    결측값을 처리하는 방법중 하나는 다른 값들의 평균으로 채워 넣는 것입니다.\\\n",
    "    Age 컬럼의 결측값을 다른 값들의 평균으로 채우겠습니다.\n",
    "    \n",
    "    pandas Series 오브젝트의 mean() method를 호출하면 numerical 컬럼의 평균을 반환합니다.\n",
    "    skipna 파라미터를 통해 평균 계산에 결측값 포함 여부를 정할 수 있습니다.\n",
    "    기본적으로 결측값을 포함하지 않고 평균을 계산합니다."
   ]
  },
  {
   "cell_type": "code",
   "execution_count": null,
   "metadata": {
    "collapsed": true
   },
   "outputs": [],
   "source": [
    "cleaned_df['Age'].mean()\n",
    "# cleaned_df['Age'].mean(skipna=False)"
   ]
  },
  {
   "cell_type": "markdown",
   "metadata": {},
   "source": [
    "    pandas Series 오브젝트의 fillna() method를 호출하여 결측값을 채울 수 있습니다.\n",
    "    어떤 값으로 채울 지, fillna() method의 인자로 넘겨주면 됩니다."
   ]
  },
  {
   "cell_type": "code",
   "execution_count": null,
   "metadata": {
    "collapsed": true
   },
   "outputs": [],
   "source": [
    "cleaned_df['Age'].fillna(cleaned_df['Age'].mean())\n",
    "\n",
    "# print(cleaned_df['Age'].isna().any())  # True, (결측값 처리 안됨.)"
   ]
  },
  {
   "cell_type": "markdown",
   "metadata": {},
   "source": [
    "    위 코드만 실행해서는 cleaned_df Age 컬럼의 결측값이 처리되지 않습니다.\n",
    "    fillna() method는 결측값이 처리된 새로운 pandas Series를 반환합니다.\n",
    "    따라서, 반환된 Series를 cleaned_df의 Age컬럼에 새로이 할당해야합니다."
   ]
  },
  {
   "cell_type": "code",
   "execution_count": null,
   "metadata": {
    "collapsed": true
   },
   "outputs": [],
   "source": [
    "cleaned_df['Age'] = cleaned_df['Age'].fillna(cleaned_df['Age'].mean())\n",
    "\n",
    "# print(cleaned_df['Age'].isna().any())  # False (결측값 처리 됨.)"
   ]
  },
  {
   "cell_type": "markdown",
   "metadata": {},
   "source": [
    "    Salary 컬럼은 평균이 아닌 중간값으로 채워보겠습니다."
   ]
  },
  {
   "cell_type": "code",
   "execution_count": null,
   "metadata": {
    "collapsed": true
   },
   "outputs": [],
   "source": [
    "cleaned_df['Salary'] = cleaned_df['Salary'].fillna(cleaned_df['Salary'].mode())\n",
    "\n",
    "print(cleaned_df.isna().any())"
   ]
  },
  {
   "cell_type": "markdown",
   "metadata": {},
   "source": [
    "### 데이터 타입 변환"
   ]
  },
  {
   "cell_type": "markdown",
   "metadata": {},
   "source": [
    "    다시 한번 각 컬럼의 data type을 살펴보겠습니다."
   ]
  },
  {
   "cell_type": "code",
   "execution_count": null,
   "metadata": {
    "collapsed": true
   },
   "outputs": [],
   "source": [
    "cleaned_df.dtypes"
   ]
  },
  {
   "cell_type": "markdown",
   "metadata": {},
   "source": [
    "    Country는 'France', 'Spain', 'Germany' 로 이루어진 컬럼입니다.\n",
    "    data type이 object로 되어 있지만 category로 바꾸어 주는 것이 좋겠습니다.\n",
    "    \n",
    "    pandas에서 csv 파일을 읽어 Dataframe을 만들 때, Country처럼 string으로 이루어진 컬럼을 자동으로 category로 읽어 들이지 않습니다."
   ]
  },
  {
   "cell_type": "markdown",
   "metadata": {},
   "source": [
    "**1. Country의 data type을 category로 변경하기.**"
   ]
  },
  {
   "cell_type": "markdown",
   "metadata": {},
   "source": [
    "    Pandas Series 오브젝트의 astype() method는 타입을 변환한 새로운 Series를 반환합니다.\n",
    "    \n",
    "    ** astype() method를 호출한 것만으로는 cleaned_df의 Country 컬럼에 타입 변환이 적용되지 않습니다."
   ]
  },
  {
   "cell_type": "code",
   "execution_count": null,
   "metadata": {
    "collapsed": true,
    "scrolled": true
   },
   "outputs": [],
   "source": [
    "cleaned_df['Country'].astype('category')"
   ]
  },
  {
   "cell_type": "markdown",
   "metadata": {},
   "source": [
    "    astype() method가 반환한 타입 변환된 Series를 cleaned_df['Country']에 할당합니다."
   ]
  },
  {
   "cell_type": "code",
   "execution_count": null,
   "metadata": {
    "collapsed": true
   },
   "outputs": [],
   "source": [
    "cleaned_df['Country'] = cleaned_df['Country'].astype('category')\n",
    "\n",
    "# print(cleaned_df['Country'].dtype)\n",
    "# print(cleaned_df.dtypes)"
   ]
  },
  {
   "cell_type": "markdown",
   "metadata": {},
   "source": [
    "**2. Age의 data type을 int64로 변경하기**"
   ]
  },
  {
   "cell_type": "markdown",
   "metadata": {},
   "source": [
    "    astype() method를 이용하여 cleaned_df의 Age 컬럼을 np.int64 타입으로 변환\n",
    "    \n",
    "    np.int64: np는 numpy를 import할 때 적용한 alias(별칭)이고, int64는 numpy에서 활용하는 integer자료형 중 하나 (64bit integer 자료형)"
   ]
  },
  {
   "cell_type": "code",
   "execution_count": null,
   "metadata": {
    "collapsed": true
   },
   "outputs": [],
   "source": [
    "cleaned_df['Age'] = cleaned_df['Age'].astype(np.int64)"
   ]
  },
  {
   "cell_type": "markdown",
   "metadata": {},
   "source": [
    "     만일 타입 변환을 하기 전에 결측값 제거를 하지 않았다면, ValueError가 발생할 수도 있습니다.\n",
    "     \n",
    "     결측값제거가 안된 raw_df를 이용해 실험해보겠습니다."
   ]
  },
  {
   "cell_type": "code",
   "execution_count": null,
   "metadata": {
    "collapsed": true,
    "scrolled": true
   },
   "outputs": [],
   "source": [
    "raw_df['Age'].astype(np.int64)\n",
    "\n",
    "# ValueError: Cannot convert non-finite values (NA or inf) to integer"
   ]
  },
  {
   "cell_type": "markdown",
   "metadata": {},
   "source": [
    "**3. Salary 컬럼의 타입을 int64로 변경**"
   ]
  },
  {
   "cell_type": "code",
   "execution_count": null,
   "metadata": {
    "collapsed": true
   },
   "outputs": [],
   "source": [
    "cleaned_df['Salary'] = cleaned_df['Salary'].astype(np.int64)\n",
    "\n",
    "print(cleaned_df.dtypes)"
   ]
  },
  {
   "cell_type": "markdown",
   "metadata": {},
   "source": [
    "**4. Purchased 컬럼의 타입을 bool로 변경**"
   ]
  },
  {
   "cell_type": "markdown",
   "metadata": {},
   "source": [
    "    Purchased 컬럼은 'Yes', 'No'로 이루어진 string 컬럼입니다.\n",
    "    data type이 object로 되어있는데 bool로 변경하는 것이 좋겠습니다.\n",
    "    \n",
    "    pandas Series의 map() method를 통해 'Yes'와 'No'를 각각 True와 False로 변경하겠습니다. (String --> Boolean)"
   ]
  },
  {
   "cell_type": "code",
   "execution_count": null,
   "metadata": {
    "collapsed": true
   },
   "outputs": [],
   "source": [
    "cleaned_df['Purchased'] = cleaned_df['Purchased'].map({'Yes': True, 'No': False})\n",
    "\n",
    "display(cleaned_df)"
   ]
  }
 ],
 "metadata": {
  "kernelspec": {
   "display_name": "Python 3",
   "language": "python",
   "name": "python3"
  },
  "language_info": {
   "codemirror_mode": {
    "name": "ipython",
    "version": 3
   },
   "file_extension": ".py",
   "mimetype": "text/x-python",
   "name": "python",
   "nbconvert_exporter": "python",
   "pygments_lexer": "ipython3",
   "version": "3.6.3"
  }
 },
 "nbformat": 4,
 "nbformat_minor": 2
}
