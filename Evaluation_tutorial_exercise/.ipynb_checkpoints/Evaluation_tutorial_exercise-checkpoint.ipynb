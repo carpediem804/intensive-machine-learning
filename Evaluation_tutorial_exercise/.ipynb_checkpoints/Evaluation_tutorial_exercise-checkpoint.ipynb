{
 "cells": [
  {
   "cell_type": "markdown",
   "metadata": {
    "collapsed": true
   },
   "source": [
    "# Evaluation"
   ]
  },
  {
   "cell_type": "markdown",
   "metadata": {},
   "source": [
    "이전 시간에 사용했던 iris data를 이용하여 최적 모델과 그의 파라미터를 구하기 위한 Cross Validation을 수행합니다."
   ]
  },
  {
   "cell_type": "code",
   "execution_count": 1,
   "metadata": {},
   "outputs": [],
   "source": [
    "from sklearn.model_selection import train_test_split\n",
    "from sklearn import datasets"
   ]
  },
  {
   "cell_type": "code",
   "execution_count": 2,
   "metadata": {},
   "outputs": [],
   "source": [
    "iris = datasets.load_iris()\n",
    "X_train, X_test, Y_train, Y_test = train_test_split(iris.data, iris.target, test_size=0.3)\n",
    "#X_train = iris.data[:120,:]\n",
    "#Y_train = iris.target[:120]\n",
    "#X_test = iris.data[120:,:]\n",
    "#Y_test = iris.target[120:]"
   ]
  },
  {
   "cell_type": "markdown",
   "metadata": {},
   "source": [
    "5-NN을 이용하여 classfication을 수행합니다"
   ]
  },
  {
   "cell_type": "code",
   "execution_count": 3,
   "metadata": {
    "collapsed": true
   },
   "outputs": [],
   "source": [
    "from sklearn.neighbors import KNeighborsClassifier"
   ]
  },
  {
   "cell_type": "code",
   "execution_count": 4,
   "metadata": {
    "collapsed": true
   },
   "outputs": [],
   "source": [
    "knn = KNeighborsClassifier(n_neighbors=5) #k=5"
   ]
  },
  {
   "cell_type": "code",
   "execution_count": 5,
   "metadata": {},
   "outputs": [
    {
     "data": {
      "text/plain": [
       "KNeighborsClassifier(algorithm='auto', leaf_size=30, metric='minkowski',\n",
       "           metric_params=None, n_jobs=1, n_neighbors=5, p=2,\n",
       "           weights='uniform')"
      ]
     },
     "execution_count": 5,
     "metadata": {},
     "output_type": "execute_result"
    }
   ],
   "source": [
    "knn.fit(X_train,Y_train)"
   ]
  },
  {
   "cell_type": "code",
   "execution_count": 6,
   "metadata": {},
   "outputs": [
    {
     "data": {
      "text/plain": [
       "0.9333333333333333"
      ]
     },
     "execution_count": 6,
     "metadata": {},
     "output_type": "execute_result"
    }
   ],
   "source": [
    "knn.score(X_test, Y_test)"
   ]
  },
  {
   "cell_type": "code",
   "execution_count": 20,
   "metadata": {
    "collapsed": true
   },
   "outputs": [],
   "source": [
    "Y_pred = knn.predict(X_test)"
   ]
  },
  {
   "cell_type": "markdown",
   "metadata": {},
   "source": [
    "단순히 accuracy만으로 분류기의 성능을 판단하기는 놓치는 것이 많습니다.\n",
    "\n",
    "confusion matrix를 작성해보고, precision, recall값을 구해봅시다."
   ]
  },
  {
   "cell_type": "code",
   "execution_count": null,
   "metadata": {
    "collapsed": true
   },
   "outputs": [],
   "source": [
    "from sklearn.metrics import confusion_matrix"
   ]
  },
  {
   "cell_type": "markdown",
   "metadata": {},
   "source": [
    "# KNN"
   ]
  },
  {
   "cell_type": "markdown",
   "metadata": {},
   "source": [
    "최적의 k값을 찾기위해 10-fold cross validation과정을 수행합니다."
   ]
  },
  {
   "cell_type": "code",
   "execution_count": 7,
   "metadata": {
    "collapsed": true
   },
   "outputs": [],
   "source": [
    "from sklearn.model_selection import cross_val_score"
   ]
  },
  {
   "cell_type": "markdown",
   "metadata": {},
   "source": [
    "테스트할 k값의 리스트를 만듭니다.\n",
    "k는 일반적으로 홀수값을 이용하므로 filter를 적용하여 리스트의 홀수 인자들만 추출합니다.\n",
    "\n",
    "**lambda** 인자 : 표현식\n",
    "lambda는 함수를 간단하게 표현할 수 있게 합니다.\n",
    "\n",
    "\n",
    "ex)\n",
    "def mul(a,b):<br>\n",
    "&nbsp;&nbsp;&nbsp;&nbsp;return a*b\n",
    "    \n",
    "mul(3,4)\n",
    "->12\n",
    "\n",
    "(lambda x,y:x\\*y)(3,4)\n",
    "->12\n"
   ]
  },
  {
   "cell_type": "code",
   "execution_count": 8,
   "metadata": {},
   "outputs": [],
   "source": [
    "k_list = list(range(1,30))\n",
    "k_list = list(filter(lambda x: x%2 == 1, k_list))"
   ]
  },
  {
   "cell_type": "code",
   "execution_count": 9,
   "metadata": {},
   "outputs": [
    {
     "data": {
      "text/plain": [
       "[1, 3, 5, 7, 9, 11, 13, 15, 17, 19, 21, 23, 25, 27, 29]"
      ]
     },
     "execution_count": 9,
     "metadata": {},
     "output_type": "execute_result"
    }
   ],
   "source": [
    "k_list"
   ]
  },
  {
   "cell_type": "markdown",
   "metadata": {},
   "source": [
    "각 k값에 대한 cross validation score를 저장하기 위한 리스트를 만듭니다."
   ]
  },
  {
   "cell_type": "code",
   "execution_count": 10,
   "metadata": {
    "collapsed": true
   },
   "outputs": [],
   "source": [
    "knn_error = []\n",
    "knn_score = []"
   ]
  },
  {
   "cell_type": "code",
   "execution_count": 11,
   "metadata": {},
   "outputs": [
    {
     "name": "stdout",
     "output_type": "stream",
     "text": [
      "0.96\n",
      "0.9666666666666666\n",
      "0.9666666666666668\n",
      "0.9666666666666668\n",
      "0.9733333333333334\n",
      "0.9666666666666668\n",
      "0.9800000000000001\n",
      "0.9733333333333334\n",
      "0.9733333333333334\n",
      "0.9733333333333334\n",
      "0.9666666666666666\n",
      "0.9733333333333334\n",
      "0.9666666666666666\n",
      "0.9666666666666666\n",
      "0.9533333333333334\n"
     ]
    }
   ],
   "source": [
    "for k in k_list:\n",
    "    knn_cv = KNeighborsClassifier(n_neighbors=k)\n",
    "    scores = cross_val_score(knn_cv, iris.data, iris.target, cv=10, scoring='accuracy')\n",
    "    print(scores.mean())\n",
    "    knn_score.append(scores.mean())\n",
    "    knn_error.append(1-scores.mean())"
   ]
  },
  {
   "cell_type": "markdown",
   "metadata": {},
   "source": [
    "이 score는 cross validation을 수행했을 때 평균 testing accuracy를 나타냅니다."
   ]
  },
  {
   "cell_type": "code",
   "execution_count": 12,
   "metadata": {},
   "outputs": [
    {
     "data": {
      "text/plain": [
       "[0.96,\n",
       " 0.9666666666666666,\n",
       " 0.9666666666666668,\n",
       " 0.9666666666666668,\n",
       " 0.9733333333333334,\n",
       " 0.9666666666666668,\n",
       " 0.9800000000000001,\n",
       " 0.9733333333333334,\n",
       " 0.9733333333333334,\n",
       " 0.9733333333333334,\n",
       " 0.9666666666666666,\n",
       " 0.9733333333333334,\n",
       " 0.9666666666666666,\n",
       " 0.9666666666666666,\n",
       " 0.9533333333333334]"
      ]
     },
     "execution_count": 12,
     "metadata": {},
     "output_type": "execute_result"
    }
   ],
   "source": [
    "knn_score"
   ]
  },
  {
   "cell_type": "code",
   "execution_count": 13,
   "metadata": {},
   "outputs": [
    {
     "data": {
      "text/plain": [
       "0.9800000000000001"
      ]
     },
     "execution_count": 13,
     "metadata": {},
     "output_type": "execute_result"
    }
   ],
   "source": [
    "max(knn_score)"
   ]
  },
  {
   "cell_type": "markdown",
   "metadata": {},
   "source": [
    "이제 5-fold cross validation을 통해 구해진 각 k값에 따른 에러율 알아보기 위해 그래프를 그려보겠습니다.\n",
    "\n",
    "그래프는 x-axis : k, y-axis :error rate 나타냅니다."
   ]
  },
  {
   "cell_type": "code",
   "execution_count": 14,
   "metadata": {
    "collapsed": true
   },
   "outputs": [],
   "source": [
    "import matplotlib.pyplot as plt"
   ]
  },
  {
   "cell_type": "code",
   "execution_count": 15,
   "metadata": {},
   "outputs": [
    {
     "data": {
      "image/png": "[encoded data removed]",
      "text/plain": [
       "<matplotlib.figure.Figure at 0x7f1c1526af60>"
      ]
     },
     "metadata": {},
     "output_type": "display_data"
    }
   ],
   "source": [
    "plt.plot(k_list, knn_error)\n",
    "plt.xlabel('k')\n",
    "plt.ylabel('error rate')\n",
    "plt.show()"
   ]
  },
  {
   "cell_type": "markdown",
   "metadata": {},
   "source": [
    "최적 accuracy를 나타내는 k값을 찾습니다."
   ]
  },
  {
   "cell_type": "code",
   "execution_count": 16,
   "metadata": {},
   "outputs": [],
   "source": [
    "k_optimal = k_list[knn_error.index(min(knn_error))]"
   ]
  },
  {
   "cell_type": "code",
   "execution_count": 17,
   "metadata": {},
   "outputs": [
    {
     "data": {
      "text/plain": [
       "13"
      ]
     },
     "execution_count": 17,
     "metadata": {},
     "output_type": "execute_result"
    }
   ],
   "source": [
    "k_optimal"
   ]
  },
  {
   "cell_type": "markdown",
   "metadata": {},
   "source": [
    "# SVM"
   ]
  },
  {
   "cell_type": "code",
   "execution_count": null,
   "metadata": {},
   "outputs": [],
   "source": [
    "from sklearn import svm\n",
    "import numpy as np"
   ]
  },
  {
   "cell_type": "markdown",
   "metadata": {},
   "source": [
    "### SVM의 kernel function 선택\n",
    "data가 선형적으로 분리될 수 있으면(linearly seperable) kernel='linear'를 사용합니다(hyper-parameter:C)\n",
    "\n",
    "data가 선형적으로 분리되지 않으면(non linearly seperable) 기본값으로 kernel='rbf'를 많이 사용합니다(hyper-parameter:gamma,C)."
   ]
  },
  {
   "cell_type": "code",
   "execution_count": null,
   "metadata": {},
   "outputs": [],
   "source": [
    "clf = svm.SVC(kernel='linear', C=5)\n",
    "#clf = svm.SVC(gamma=1, C=1)\n",
    "clf.fit(X_train, Y_train)\n",
    "clf.predict(X_test)\n",
    "clf.score(X_test,Y_test)  #test accuracy"
   ]
  },
  {
   "cell_type": "markdown",
   "metadata": {},
   "source": [
    "C로 설정할 후보를 아래와 같이 리스트에 담습니다."
   ]
  },
  {
   "cell_type": "code",
   "execution_count": null,
   "metadata": {},
   "outputs": [],
   "source": []
  },
  {
   "cell_type": "markdown",
   "metadata": {},
   "source": [
    "cv score와 error를 담을 리스트를 정의합니다."
   ]
  },
  {
   "cell_type": "code",
   "execution_count": null,
   "metadata": {
    "collapsed": true
   },
   "outputs": [],
   "source": []
  },
  {
   "cell_type": "markdown",
   "metadata": {},
   "source": [
    "10-fold cross validation을 이용하여 모델의 정확도를 구해봅니다."
   ]
  },
  {
   "cell_type": "code",
   "execution_count": null,
   "metadata": {
    "collapsed": true
   },
   "outputs": [],
   "source": [
    "scores = cross_val_score(clf, X_train, Y_train, cv=10)"
   ]
  },
  {
   "cell_type": "code",
   "execution_count": null,
   "metadata": {},
   "outputs": [],
   "source": [
    "scores.mean()"
   ]
  },
  {
   "cell_type": "markdown",
   "metadata": {},
   "source": [
    "10-fold cross validation을 통해 최적의 C값을 찾습니다."
   ]
  },
  {
   "cell_type": "code",
   "execution_count": null,
   "metadata": {},
   "outputs": [],
   "source": [
    "for c in c_list:\n",
    "    svm_cv = svm.SVC(kernel='linear', C=c)\n",
    "    scores = cross_val_score(svm_cv, iris.data, iris.target, cv=10, scoring='accuracy')\n",
    "    print(scores.mean())\n",
    "    svm_score.append(scores.mean())\n",
    "    svm_error.append(1-scores.mean())"
   ]
  },
  {
   "cell_type": "markdown",
   "metadata": {},
   "source": [
    "이제 cross validation 실행 결과를 보기 위해 그래프를 그려보겠습니다."
   ]
  },
  {
   "cell_type": "code",
   "execution_count": null,
   "metadata": {},
   "outputs": [],
   "source": [
    "plt.plot(c_list, svm_error)\n",
    "plt.xlabel('C')\n",
    "plt.ylabel('error rate')\n",
    "plt.show()"
   ]
  },
  {
   "cell_type": "markdown",
   "metadata": {},
   "source": [
    "최적의 c를 구해봅니다."
   ]
  },
  {
   "cell_type": "code",
   "execution_count": null,
   "metadata": {
    "collapsed": true
   },
   "outputs": [],
   "source": [
    "c_optimal = c_list[svm_error.index(min(svm_error))]"
   ]
  },
  {
   "cell_type": "code",
   "execution_count": null,
   "metadata": {},
   "outputs": [],
   "source": [
    "c_optimal"
   ]
  }
 ],
 "metadata": {
  "kernelspec": {
   "display_name": "Python 3",
   "language": "python",
   "name": "python3"
  },
  "language_info": {
   "codemirror_mode": {
    "name": "ipython",
    "version": 3
   },
   "file_extension": ".py",
   "mimetype": "text/x-python",
   "name": "python",
   "nbconvert_exporter": "python",
   "pygments_lexer": "ipython3",
   "version": "3.6.3"
  }
 },
 "nbformat": 4,
 "nbformat_minor": 2
}
