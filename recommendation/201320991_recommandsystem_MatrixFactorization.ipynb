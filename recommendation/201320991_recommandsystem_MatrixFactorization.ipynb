{
 "cells": [
  {
   "cell_type": "code",
   "execution_count": 1,
   "metadata": {},
   "outputs": [],
   "source": [
    "from pandas import Series, DataFrame\n",
    "import pandas as pd\n",
    "import numpy as np\n",
    "import matplotlib.pyplot  as plt\n",
    "import time"
   ]
  },
  {
   "cell_type": "code",
   "execution_count": 2,
   "metadata": {},
   "outputs": [],
   "source": [
    "rating = pd.read_csv('ratings.csv')"
   ]
  },
  {
   "cell_type": "code",
   "execution_count": 3,
   "metadata": {},
   "outputs": [],
   "source": [
    "movie_matrix = rating.pivot(index='userId' ,columns='movieId', values='rating')"
   ]
  },
  {
   "cell_type": "code",
   "execution_count": 5,
   "metadata": {},
   "outputs": [],
   "source": [
    "#nan 값 0으로채우기\n",
    "movie_matrix = movie_matrix.fillna(0)"
   ]
  },
  {
   "cell_type": "code",
   "execution_count": 6,
   "metadata": {
    "scrolled": true
   },
   "outputs": [
    {
     "data": {
      "text/html": [
       "<div>\n",
       "<style scoped>\n",
       "    .dataframe tbody tr th:only-of-type {\n",
       "        vertical-align: middle;\n",
       "    }\n",
       "\n",
       "    .dataframe tbody tr th {\n",
       "        vertical-align: top;\n",
       "    }\n",
       "\n",
       "    .dataframe thead th {\n",
       "        text-align: right;\n",
       "    }\n",
       "</style>\n",
       "<table border=\"1\" class=\"dataframe\">\n",
       "  <thead>\n",
       "    <tr style=\"text-align: right;\">\n",
       "      <th>movieId</th>\n",
       "      <th>1</th>\n",
       "      <th>2</th>\n",
       "      <th>3</th>\n",
       "      <th>4</th>\n",
       "      <th>5</th>\n",
       "      <th>6</th>\n",
       "      <th>7</th>\n",
       "      <th>8</th>\n",
       "      <th>9</th>\n",
       "      <th>10</th>\n",
       "      <th>...</th>\n",
       "      <th>161084</th>\n",
       "      <th>161155</th>\n",
       "      <th>161594</th>\n",
       "      <th>161830</th>\n",
       "      <th>161918</th>\n",
       "      <th>161944</th>\n",
       "      <th>162376</th>\n",
       "      <th>162542</th>\n",
       "      <th>162672</th>\n",
       "      <th>163949</th>\n",
       "    </tr>\n",
       "    <tr>\n",
       "      <th>userId</th>\n",
       "      <th></th>\n",
       "      <th></th>\n",
       "      <th></th>\n",
       "      <th></th>\n",
       "      <th></th>\n",
       "      <th></th>\n",
       "      <th></th>\n",
       "      <th></th>\n",
       "      <th></th>\n",
       "      <th></th>\n",
       "      <th></th>\n",
       "      <th></th>\n",
       "      <th></th>\n",
       "      <th></th>\n",
       "      <th></th>\n",
       "      <th></th>\n",
       "      <th></th>\n",
       "      <th></th>\n",
       "      <th></th>\n",
       "      <th></th>\n",
       "      <th></th>\n",
       "    </tr>\n",
       "  </thead>\n",
       "  <tbody>\n",
       "    <tr>\n",
       "      <th>1</th>\n",
       "      <td>0.0</td>\n",
       "      <td>0.0</td>\n",
       "      <td>0.0</td>\n",
       "      <td>0.0</td>\n",
       "      <td>0.0</td>\n",
       "      <td>0.0</td>\n",
       "      <td>0.0</td>\n",
       "      <td>0.0</td>\n",
       "      <td>0.0</td>\n",
       "      <td>0.0</td>\n",
       "      <td>...</td>\n",
       "      <td>0.0</td>\n",
       "      <td>0.0</td>\n",
       "      <td>0.0</td>\n",
       "      <td>0.0</td>\n",
       "      <td>0.0</td>\n",
       "      <td>0.0</td>\n",
       "      <td>0.0</td>\n",
       "      <td>0.0</td>\n",
       "      <td>0.0</td>\n",
       "      <td>0.0</td>\n",
       "    </tr>\n",
       "    <tr>\n",
       "      <th>2</th>\n",
       "      <td>0.0</td>\n",
       "      <td>0.0</td>\n",
       "      <td>0.0</td>\n",
       "      <td>0.0</td>\n",
       "      <td>0.0</td>\n",
       "      <td>0.0</td>\n",
       "      <td>0.0</td>\n",
       "      <td>0.0</td>\n",
       "      <td>0.0</td>\n",
       "      <td>4.0</td>\n",
       "      <td>...</td>\n",
       "      <td>0.0</td>\n",
       "      <td>0.0</td>\n",
       "      <td>0.0</td>\n",
       "      <td>0.0</td>\n",
       "      <td>0.0</td>\n",
       "      <td>0.0</td>\n",
       "      <td>0.0</td>\n",
       "      <td>0.0</td>\n",
       "      <td>0.0</td>\n",
       "      <td>0.0</td>\n",
       "    </tr>\n",
       "    <tr>\n",
       "      <th>3</th>\n",
       "      <td>0.0</td>\n",
       "      <td>0.0</td>\n",
       "      <td>0.0</td>\n",
       "      <td>0.0</td>\n",
       "      <td>0.0</td>\n",
       "      <td>0.0</td>\n",
       "      <td>0.0</td>\n",
       "      <td>0.0</td>\n",
       "      <td>0.0</td>\n",
       "      <td>0.0</td>\n",
       "      <td>...</td>\n",
       "      <td>0.0</td>\n",
       "      <td>0.0</td>\n",
       "      <td>0.0</td>\n",
       "      <td>0.0</td>\n",
       "      <td>0.0</td>\n",
       "      <td>0.0</td>\n",
       "      <td>0.0</td>\n",
       "      <td>0.0</td>\n",
       "      <td>0.0</td>\n",
       "      <td>0.0</td>\n",
       "    </tr>\n",
       "    <tr>\n",
       "      <th>4</th>\n",
       "      <td>0.0</td>\n",
       "      <td>0.0</td>\n",
       "      <td>0.0</td>\n",
       "      <td>0.0</td>\n",
       "      <td>0.0</td>\n",
       "      <td>0.0</td>\n",
       "      <td>0.0</td>\n",
       "      <td>0.0</td>\n",
       "      <td>0.0</td>\n",
       "      <td>4.0</td>\n",
       "      <td>...</td>\n",
       "      <td>0.0</td>\n",
       "      <td>0.0</td>\n",
       "      <td>0.0</td>\n",
       "      <td>0.0</td>\n",
       "      <td>0.0</td>\n",
       "      <td>0.0</td>\n",
       "      <td>0.0</td>\n",
       "      <td>0.0</td>\n",
       "      <td>0.0</td>\n",
       "      <td>0.0</td>\n",
       "    </tr>\n",
       "    <tr>\n",
       "      <th>5</th>\n",
       "      <td>0.0</td>\n",
       "      <td>0.0</td>\n",
       "      <td>4.0</td>\n",
       "      <td>0.0</td>\n",
       "      <td>0.0</td>\n",
       "      <td>0.0</td>\n",
       "      <td>0.0</td>\n",
       "      <td>0.0</td>\n",
       "      <td>0.0</td>\n",
       "      <td>0.0</td>\n",
       "      <td>...</td>\n",
       "      <td>0.0</td>\n",
       "      <td>0.0</td>\n",
       "      <td>0.0</td>\n",
       "      <td>0.0</td>\n",
       "      <td>0.0</td>\n",
       "      <td>0.0</td>\n",
       "      <td>0.0</td>\n",
       "      <td>0.0</td>\n",
       "      <td>0.0</td>\n",
       "      <td>0.0</td>\n",
       "    </tr>\n",
       "  </tbody>\n",
       "</table>\n",
       "<p>5 rows × 9066 columns</p>\n",
       "</div>"
      ],
      "text/plain": [
       "movieId  1       2       3       4       5       6       7       8       \\\n",
       "userId                                                                    \n",
       "1           0.0     0.0     0.0     0.0     0.0     0.0     0.0     0.0   \n",
       "2           0.0     0.0     0.0     0.0     0.0     0.0     0.0     0.0   \n",
       "3           0.0     0.0     0.0     0.0     0.0     0.0     0.0     0.0   \n",
       "4           0.0     0.0     0.0     0.0     0.0     0.0     0.0     0.0   \n",
       "5           0.0     0.0     4.0     0.0     0.0     0.0     0.0     0.0   \n",
       "\n",
       "movieId  9       10       ...    161084  161155  161594  161830  161918  \\\n",
       "userId                    ...                                             \n",
       "1           0.0     0.0   ...       0.0     0.0     0.0     0.0     0.0   \n",
       "2           0.0     4.0   ...       0.0     0.0     0.0     0.0     0.0   \n",
       "3           0.0     0.0   ...       0.0     0.0     0.0     0.0     0.0   \n",
       "4           0.0     4.0   ...       0.0     0.0     0.0     0.0     0.0   \n",
       "5           0.0     0.0   ...       0.0     0.0     0.0     0.0     0.0   \n",
       "\n",
       "movieId  161944  162376  162542  162672  163949  \n",
       "userId                                           \n",
       "1           0.0     0.0     0.0     0.0     0.0  \n",
       "2           0.0     0.0     0.0     0.0     0.0  \n",
       "3           0.0     0.0     0.0     0.0     0.0  \n",
       "4           0.0     0.0     0.0     0.0     0.0  \n",
       "5           0.0     0.0     0.0     0.0     0.0  \n",
       "\n",
       "[5 rows x 9066 columns]"
      ]
     },
     "execution_count": 6,
     "metadata": {},
     "output_type": "execute_result"
    }
   ],
   "source": [
    "movie_matrix.head()"
   ]
  },
  {
   "cell_type": "code",
   "execution_count": 7,
   "metadata": {},
   "outputs": [],
   "source": [
    "##dataframe 형태를 np형태로바꾸기\n",
    "datMat = np.array(movie_matrix,dtype='int64'); \n",
    "datMat = datMat[:,1:]"
   ]
  },
  {
   "cell_type": "code",
   "execution_count": 8,
   "metadata": {
    "scrolled": true
   },
   "outputs": [
    {
     "data": {
      "text/plain": [
       "array([[0, 0, 0, ..., 0, 0, 0],\n",
       "       [0, 0, 0, ..., 0, 0, 0],\n",
       "       [0, 0, 0, ..., 0, 0, 0],\n",
       "       ...,\n",
       "       [0, 0, 0, ..., 0, 0, 0],\n",
       "       [0, 0, 0, ..., 0, 0, 0],\n",
       "       [0, 0, 0, ..., 0, 0, 0]])"
      ]
     },
     "execution_count": 8,
     "metadata": {},
     "output_type": "execute_result"
    }
   ],
   "source": [
    "datMat"
   ]
  },
  {
   "cell_type": "code",
   "execution_count": 9,
   "metadata": {},
   "outputs": [],
   "source": [
    "def matrix_factorization(R, P, Q, K, steps=30, alpha=0.0002, beta=0.02):\n",
    "#Step = SGD의 횟수, R = 실제 평점 matrix, \n",
    "#P,Q = factorization matrix, \n",
    "#alpha =learning late, beta = regularization term.\n",
    "\n",
    "    Q = Q.T\n",
    "    for step in range(steps):\n",
    "        for i in range(len(R)):\n",
    "            for j in range(len(R[i])):\n",
    "                if R[i][j] > 0:\n",
    "                    eij = R[i][j] - np.dot(P[i,:],Q[:,j])\n",
    "                    for k in range(K):\n",
    "                        P[i][k] = P[i][k] +alpha * (2 * eij * Q[k][j] - beta * P[i][k])\n",
    "                        Q[k][j] = Q[k][j] +alpha * (2 * eij * P[i][k] - beta * Q[k][j])\n",
    "        eR = np.dot(P,Q)\n",
    "        e = 0\n",
    "        for i in range(len(R)):\n",
    "            for j in range(len(R[i])):\n",
    "                if R[i][j] > 0:\n",
    "                    e = e+pow(R[i][j] - np.dot(P[i,:],Q[:,j]), 2)\n",
    "                    for k in range(K):\n",
    "                        e = e + (beta/2) * (pow(P[i][k],2) + pow(Q[k][j], 2))\n",
    "        if e < 0.001:\n",
    "            break\n",
    "\n",
    "    return P, Q.T"
   ]
  },
  {
   "cell_type": "code",
   "execution_count": 10,
   "metadata": {},
   "outputs": [],
   "source": [
    "##원래 매트릭스를 작은 2개로 나누기  \n",
    "N, M = datMat.shape\n",
    "K = 10\n",
    "P = np.random.rand(N,K)\n",
    "Q = np.random.rand(M,K)"
   ]
  },
  {
   "cell_type": "code",
   "execution_count": 11,
   "metadata": {},
   "outputs": [],
   "source": [
    "##q와p를 최적화 한 원래 matrix와 비슷하게 newQ와 newP로 바꾸기\n",
    "ini = time.time()\n",
    "newP, newQ = matrix_factorization(datMat, P, Q, K)\n",
    "end = time.time()"
   ]
  },
  {
   "cell_type": "code",
   "execution_count": 12,
   "metadata": {},
   "outputs": [
    {
     "name": "stdout",
     "output_type": "stream",
     "text": [
      "374.83560132980347\n"
     ]
    }
   ],
   "source": [
    "print(end-ini)"
   ]
  },
  {
   "cell_type": "code",
   "execution_count": 13,
   "metadata": {},
   "outputs": [],
   "source": [
    "new_dat = np.dot(newP, newQ.T)"
   ]
  },
  {
   "cell_type": "code",
   "execution_count": 14,
   "metadata": {},
   "outputs": [
    {
     "data": {
      "text/plain": [
       "array([[2.64096688, 2.9121208 , 2.26045838, ..., 2.08635474, 2.81184334,\n",
       "        3.51794533],\n",
       "       [3.36162484, 3.86607666, 3.36593867, ..., 2.10499839, 2.81762997,\n",
       "        4.44197064],\n",
       "       [3.12383607, 3.07384672, 3.05140011, ..., 2.25773028, 2.78262589,\n",
       "        4.2570529 ],\n",
       "       ...,\n",
       "       [3.19111466, 3.33279384, 2.994656  , ..., 1.86698869, 2.88409761,\n",
       "        4.33640866],\n",
       "       [3.2351656 , 2.96923542, 2.69569973, ..., 2.48588478, 3.64020601,\n",
       "        4.67080558],\n",
       "       [3.28842632, 3.193948  , 2.72107664, ..., 2.53017081, 3.70776723,\n",
       "        4.70661322]])"
      ]
     },
     "execution_count": 14,
     "metadata": {},
     "output_type": "execute_result"
    }
   ],
   "source": [
    "new_dat"
   ]
  },
  {
   "cell_type": "code",
   "execution_count": 15,
   "metadata": {},
   "outputs": [
    {
     "name": "stdout",
     "output_type": "stream",
     "text": [
      "Overal MAE: 0.710\n"
     ]
    }
   ],
   "source": [
    "## 원래 매트릭스와 newQ와newP의곱의 error를 계산하기 \n",
    "total_count = 0\n",
    "total_error = 0\n",
    "for u in range(N):\n",
    "    err_u = 0\n",
    "    rateCount_u = 0\n",
    "    for j in range(M):\n",
    "        if datMat[u,j] > 0:\n",
    "            rateCount_u += 1\n",
    "            err_u += abs(np.dot(newP[u], newQ[j])-datMat[u,j])\n",
    "    total_count += rateCount_u\n",
    "    total_error += err_u\n",
    "print(\"Overal MAE: %0.3f\" % (total_error/total_count))"
   ]
  },
  {
   "cell_type": "code",
   "execution_count": 16,
   "metadata": {},
   "outputs": [
    {
     "name": "stdout",
     "output_type": "stream",
     "text": [
      "Overal MAE: 0.700\n",
      "Overal MAE: 0.687\n",
      "Overal MAE: 0.673\n",
      "Overal MAE: 0.660\n",
      "Overal MAE: 0.650\n",
      "Overal MAE: 0.640\n",
      "Overal MAE: 0.630\n",
      "Overal MAE: 0.620\n"
     ]
    }
   ],
   "source": [
    "####파라미터 조절하기\n",
    "step = [5,10,15,20,25,30,35,40]\n",
    "for i in step:\n",
    "    def matrix_factorization(R, P, Q, K, steps=i, alpha=0.0002, beta=0.02):\n",
    "    #Step = SGD의 횟수, R = 실제 평점 matrix, \n",
    "    #P,Q = factorization matrix, \n",
    "    #alpha =learning late, beta = regularization term.\n",
    "\n",
    "        Q = Q.T\n",
    "        for step in range(steps):\n",
    "            for i in range(len(R)):\n",
    "                for j in range(len(R[i])):\n",
    "                    if R[i][j] > 0:\n",
    "                        eij = R[i][j] - np.dot(P[i,:],Q[:,j])\n",
    "                        for k in range(K):\n",
    "                            P[i][k] = P[i][k] +alpha * (2 * eij * Q[k][j] - beta * P[i][k])\n",
    "                            Q[k][j] = Q[k][j] +alpha * (2 * eij * P[i][k] - beta * Q[k][j])\n",
    "            eR = np.dot(P,Q)\n",
    "            e = 0\n",
    "            for i in range(len(R)):\n",
    "                for j in range(len(R[i])):\n",
    "                    if R[i][j] > 0:\n",
    "                        e = e+pow(R[i][j] - np.dot(P[i,:],Q[:,j]), 2)\n",
    "                        for k in range(K):\n",
    "                            e = e + (beta/2) * (pow(P[i][k],2) + pow(Q[k][j], 2))\n",
    "            if e < 0.001:\n",
    "                break\n",
    "\n",
    "        return P, Q.T\n",
    "    ini = time.time()\n",
    "    newP, newQ = matrix_factorization(datMat, P, Q, K)\n",
    "    end = time.time()\n",
    "    total_count = 0\n",
    "    total_error = 0\n",
    "    for u in range(N):\n",
    "        err_u = 0\n",
    "        rateCount_u = 0\n",
    "        for j in range(M):\n",
    "            if datMat[u,j] > 0:\n",
    "                rateCount_u += 1\n",
    "                err_u += abs(np.dot(newP[u], newQ[j])-datMat[u,j])\n",
    "        total_count += rateCount_u\n",
    "        total_error += err_u\n",
    "    print(\"Overal MAE: %0.3f\" % (total_error/total_count))"
   ]
  },
  {
   "cell_type": "code",
   "execution_count": null,
   "metadata": {},
   "outputs": [],
   "source": [
    "## step =40일때 최소값이 나옴  -> step이 점점 증가할수록 total_error가줄어듬"
   ]
  },
  {
   "cell_type": "code",
   "execution_count": 18,
   "metadata": {},
   "outputs": [
    {
     "name": "stdout",
     "output_type": "stream",
     "text": [
      "Overal MAE: 0.612\n",
      "Overal MAE: 0.602\n",
      "Overal MAE: 0.591\n",
      "Overal MAE: 0.579\n",
      "Overal MAE: 0.566\n"
     ]
    }
   ],
   "source": [
    "####파라미터 조절하기\n",
    "step = [35,40,45,50,55]\n",
    "step_data =[]\n",
    "accuracy = []\n",
    "for i in step:\n",
    "    step_data.append(i)\n",
    "    def matrix_factorization(R, P, Q, K, steps=i, alpha=0.0002, beta=0.02):\n",
    "    #Step = SGD의 횟수, R = 실제 평점 matrix, \n",
    "    #P,Q = factorization matrix, \n",
    "    #alpha =learning late, beta = regularization term.\n",
    "       \n",
    "        Q = Q.T\n",
    "        for step in range(steps):\n",
    "            for i in range(len(R)):\n",
    "                for j in range(len(R[i])):\n",
    "                    if R[i][j] > 0:\n",
    "                        eij = R[i][j] - np.dot(P[i,:],Q[:,j])\n",
    "                        for k in range(K):\n",
    "                            P[i][k] = P[i][k] +alpha * (2 * eij * Q[k][j] - beta * P[i][k])\n",
    "                            Q[k][j] = Q[k][j] +alpha * (2 * eij * P[i][k] - beta * Q[k][j])\n",
    "            eR = np.dot(P,Q)\n",
    "            e = 0\n",
    "            for i in range(len(R)):\n",
    "                for j in range(len(R[i])):\n",
    "                    if R[i][j] > 0:\n",
    "                        e = e+pow(R[i][j] - np.dot(P[i,:],Q[:,j]), 2)\n",
    "                        for k in range(K):\n",
    "                            e = e + (beta/2) * (pow(P[i][k],2) + pow(Q[k][j], 2))\n",
    "            if e < 0.001:\n",
    "                break\n",
    "\n",
    "        return P, Q.T\n",
    "    ini = time.time()\n",
    "    newP, newQ = matrix_factorization(datMat, P, Q, K)\n",
    "    end = time.time()\n",
    "    total_count = 0\n",
    "    total_error = 0\n",
    "    for u in range(N):\n",
    "        err_u = 0\n",
    "        rateCount_u = 0\n",
    "        for j in range(M):\n",
    "            if datMat[u,j] > 0:\n",
    "                rateCount_u += 1\n",
    "                err_u += abs(np.dot(newP[u], newQ[j])-datMat[u,j])\n",
    "        total_count += rateCount_u\n",
    "        total_error += err_u\n",
    "    accuracy.append((total_error/total_count))\n",
    "    print(\"Overal MAE: %0.3f\" % (total_error/total_count))"
   ]
  },
  {
   "cell_type": "code",
   "execution_count": 19,
   "metadata": {},
   "outputs": [
    {
     "data": {
      "text/plain": [
       "[<matplotlib.lines.Line2D at 0x7fe1bb6a20b8>]"
      ]
     },
     "execution_count": 19,
     "metadata": {},
     "output_type": "execute_result"
    },
    {
     "data": {
      "image/png": "[encoded data removed]",
      "text/plain": [
       "<Figure size 432x288 with 1 Axes>"
      ]
     },
     "metadata": {},
     "output_type": "display_data"
    }
   ],
   "source": [
    "x = step_data\n",
    "y = accuracy\n",
    "plt.plot(x,y)\n",
    "#\n"
   ]
  },
  {
   "cell_type": "code",
   "execution_count": 20,
   "metadata": {},
   "outputs": [
    {
     "name": "stdout",
     "output_type": "stream",
     "text": [
      "Overal MAE: 0.553\n",
      "Overal MAE: 0.540\n",
      "Overal MAE: 0.527\n",
      "Overal MAE: 0.515\n",
      "Overal MAE: 0.503\n",
      "Overal MAE: 0.492\n"
     ]
    }
   ],
   "source": [
    "####파라미터 조절하기\n",
    "step = [60,65,70,75,80,85]\n",
    "step_data =[]\n",
    "accuracy = []\n",
    "for i in step:\n",
    "    step_data.append(i)\n",
    "    def matrix_factorization(R, P, Q, K, steps=i, alpha=0.0002, beta=0.02):\n",
    "    #Step = SGD의 횟수, R = 실제 평점 matrix, \n",
    "    #P,Q = factorization matrix, \n",
    "    #alpha =learning late, beta = regularization term.\n",
    "       \n",
    "        Q = Q.T\n",
    "        for step in range(steps):\n",
    "            for i in range(len(R)):\n",
    "                for j in range(len(R[i])):\n",
    "                    if R[i][j] > 0:\n",
    "                        eij = R[i][j] - np.dot(P[i,:],Q[:,j])\n",
    "                        for k in range(K):\n",
    "                            P[i][k] = P[i][k] +alpha * (2 * eij * Q[k][j] - beta * P[i][k])\n",
    "                            Q[k][j] = Q[k][j] +alpha * (2 * eij * P[i][k] - beta * Q[k][j])\n",
    "            eR = np.dot(P,Q)\n",
    "            e = 0\n",
    "            for i in range(len(R)):\n",
    "                for j in range(len(R[i])):\n",
    "                    if R[i][j] > 0:\n",
    "                        e = e+pow(R[i][j] - np.dot(P[i,:],Q[:,j]), 2)\n",
    "                        for k in range(K):\n",
    "                            e = e + (beta/2) * (pow(P[i][k],2) + pow(Q[k][j], 2))\n",
    "            if e < 0.001:\n",
    "                break\n",
    "\n",
    "        return P, Q.T\n",
    "    ini = time.time()\n",
    "    newP, newQ = matrix_factorization(datMat, P, Q, K)\n",
    "    end = time.time()\n",
    "    total_count = 0\n",
    "    total_error = 0\n",
    "    for u in range(N):\n",
    "        err_u = 0\n",
    "        rateCount_u = 0\n",
    "        for j in range(M):\n",
    "            if datMat[u,j] > 0:\n",
    "                rateCount_u += 1\n",
    "                err_u += abs(np.dot(newP[u], newQ[j])-datMat[u,j])\n",
    "        total_count += rateCount_u\n",
    "        total_error += err_u\n",
    "    accuracy.append((total_error/total_count))\n",
    "    print(\"Overal MAE: %0.3f\" % (total_error/total_count))"
   ]
  },
  {
   "cell_type": "code",
   "execution_count": 21,
   "metadata": {},
   "outputs": [
    {
     "data": {
      "text/plain": [
       "[<matplotlib.lines.Line2D at 0x7fe1bed8d080>]"
      ]
     },
     "execution_count": 21,
     "metadata": {},
     "output_type": "execute_result"
    },
    {
     "data": {
      "image/png": "[encoded data removed]",
      "text/plain": [
       "<Figure size 432x288 with 1 Axes>"
      ]
     },
     "metadata": {},
     "output_type": "display_data"
    }
   ],
   "source": [
    "x = step_data\n",
    "y = accuracy\n",
    "plt.plot(x,y)\n",
    "#\n",
    "#step = SGD의 횟수 가 많을수록 오류가 적어진다 \n",
    "#하지만 시간이 늘어난다 .\n"
   ]
  }
 ],
 "metadata": {
  "kernelspec": {
   "display_name": "my_kernel",
   "language": "python",
   "name": "my_kernel"
  },
  "language_info": {
   "codemirror_mode": {
    "name": "ipython",
    "version": 3
   },
   "file_extension": ".py",
   "mimetype": "text/x-python",
   "name": "python",
   "nbconvert_exporter": "python",
   "pygments_lexer": "ipython3",
   "version": "3.6.4"
  }
 },
 "nbformat": 4,
 "nbformat_minor": 2
}
