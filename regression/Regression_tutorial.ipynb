{
 "cells": [
  {
   "cell_type": "markdown",
   "metadata": {},
   "source": [
    "# Linear regression"
   ]
  },
  {
   "cell_type": "markdown",
   "metadata": {},
   "source": [
    "Linear regression은 regression을 위한 linear model이다. 간단한 문제(linearly seperable)에서 regression을 수행하기에 매우 적합하다.\n",
    "\n",
    "linear regression에는 사용자 지정 파라미터가 없다"
   ]
  },
  {
   "cell_type": "code",
   "execution_count": 2,
   "metadata": {
    "collapsed": true
   },
   "outputs": [],
   "source": [
    "from sklearn import datasets, linear_model\n",
    "from sklearn.metrics import mean_squared_error, r2_score\n",
    "from sklearn.model_selection import train_test_split\n",
    "import numpy as np\n",
    "import matplotlib.pyplot as plt"
   ]
  },
  {
   "cell_type": "code",
   "execution_count": 3,
   "metadata": {
    "collapsed": true
   },
   "outputs": [],
   "source": [
    "diabetes = datasets.load_diabetes()\n",
    "#데이터 로드"
   ]
  },
  {
   "cell_type": "markdown",
   "metadata": {},
   "source": [
    "**attribute name**\n",
    "\n",
    "Age, Sex, Body mass index, Average blood pressure, S1, S2, S3, S4, S5, S6(blood serum)"
   ]
  },
  {
   "cell_type": "code",
   "execution_count": 11,
   "metadata": {},
   "outputs": [
    {
     "data": {
      "text/plain": [
       "(442, 10)"
      ]
     },
     "execution_count": 11,
     "metadata": {},
     "output_type": "execute_result"
    }
   ],
   "source": [
    "diabetes.data.shape\n"
   ]
  },
  {
   "cell_type": "code",
   "execution_count": 6,
   "metadata": {
    "collapsed": true
   },
   "outputs": [],
   "source": [
    "X_train, X_test, Y_train, Y_test = train_test_split(diabetes.data, diabetes.target, test_size=0.3, random_state=0)"
   ]
  },
  {
   "cell_type": "code",
   "execution_count": 12,
   "metadata": {
    "collapsed": true
   },
   "outputs": [],
   "source": [
    "lr = linear_model.LinearRegression()"
   ]
  },
  {
   "cell_type": "code",
   "execution_count": 13,
   "metadata": {},
   "outputs": [
    {
     "data": {
      "text/plain": [
       "LinearRegression(copy_X=True, fit_intercept=True, n_jobs=1, normalize=False)"
      ]
     },
     "execution_count": 13,
     "metadata": {},
     "output_type": "execute_result"
    }
   ],
   "source": [
    "lr.fit(X_train, Y_train)"
   ]
  },
  {
   "cell_type": "code",
   "execution_count": 14,
   "metadata": {},
   "outputs": [
    {
     "data": {
      "text/plain": [
       "array([ -52.46990775, -193.51064552,  579.4827762 ,  272.46404234,\n",
       "       -504.72401371,  241.68441866,  -69.73618783,   86.62018451,\n",
       "        721.95580222,   26.77887028])"
      ]
     },
     "execution_count": 14,
     "metadata": {},
     "output_type": "execute_result"
    }
   ],
   "source": [
    "lr.coef_"
   ]
  },
  {
   "cell_type": "markdown",
   "metadata": {},
   "source": [
    "Y(당뇨병의 진행정도)와 X(predictors, attribute)의 상관관계를 나타낸다.\n",
    "\n",
    "위의 coefficient를 통해 나이, 성별(여성)은 당뇨병의 진행정도와 음의 상관관계를 나타내고, 체질량지수와 평균혈압은 당뇨병 진행정도에 매우 강한 양의 상관관계를 나타냄을 확인할 수 있다."
   ]
  },
  {
   "cell_type": "code",
   "execution_count": 17,
   "metadata": {},
   "outputs": [
    {
     "data": {
      "text/plain": [
       "153.71914540545853"
      ]
     },
     "execution_count": 17,
     "metadata": {},
     "output_type": "execute_result"
    }
   ],
   "source": [
    "lr.intercept_"
   ]
  },
  {
   "cell_type": "code",
   "execution_count": 18,
   "metadata": {
    "collapsed": true
   },
   "outputs": [],
   "source": [
    "Y_pred = lr.predict(X_test)"
   ]
  },
  {
   "cell_type": "markdown",
   "metadata": {},
   "source": [
    "MSE(Mean Squared Error)를 통해 모델의 적합성을 예측해볼 수 있다.\n",
    "\n",
    "하지만 data의 scale에 따라 mse의 값이 달라지는 것에 주의해야한다.\n",
    "\n",
    "또 다른 linear regression 모델 적합도 측정 방법으로는 r^2가 있다.\n",
    "\n",
    "r^2는 SSE를 SST로 나눈 값이므로 regression 모델의 적합도를 평가하는 지표로 사용하기 더 적절하다.\n",
    "\n",
    "r^2이 1에 가까울수록 좋은 linear regression 모델이라고 판단할 수 있다."
   ]
  },
  {
   "cell_type": "code",
   "execution_count": 19,
   "metadata": {},
   "outputs": [
    {
     "data": {
      "text/plain": [
       "3097.146138387797"
      ]
     },
     "execution_count": 19,
     "metadata": {},
     "output_type": "execute_result"
    }
   ],
   "source": [
    "mean_squared_error(Y_test, Y_pred)"
   ]
  },
  {
   "cell_type": "code",
   "execution_count": 20,
   "metadata": {},
   "outputs": [
    {
     "data": {
      "text/plain": [
       "0.3928939845074759"
      ]
     },
     "execution_count": 20,
     "metadata": {},
     "output_type": "execute_result"
    }
   ],
   "source": [
    "r2_score(Y_test,Y_pred)"
   ]
  },
  {
   "cell_type": "code",
   "execution_count": 21,
   "metadata": {},
   "outputs": [
    {
     "name": "stdout",
     "output_type": "stream",
     "text": [
      "0.5539411781927147\n"
     ]
    }
   ],
   "source": [
    "#training score\n",
    "print(lr.score(X_train, Y_train))"
   ]
  },
  {
   "cell_type": "code",
   "execution_count": 22,
   "metadata": {},
   "outputs": [
    {
     "name": "stdout",
     "output_type": "stream",
     "text": [
      "0.3928939845074759\n"
     ]
    }
   ],
   "source": [
    "#test score\n",
    "print(lr.score(X_test, Y_test))"
   ]
  },
  {
   "cell_type": "code",
   "execution_count": 23,
   "metadata": {
    "collapsed": true
   },
   "outputs": [],
   "source": [
    "diabetes_one = diabetes.data[:,np.newaxis,2]\n",
    "x_train = diabetes_one[:-20]\n",
    "x_test = diabetes_one[-20:]\n",
    "y_train = diabetes.target[:-20]\n",
    "y_test = diabetes.target[-20:,]"
   ]
  },
  {
   "cell_type": "code",
   "execution_count": 24,
   "metadata": {
    "collapsed": true
   },
   "outputs": [],
   "source": [
    "lr2 = linear_model.LinearRegression()"
   ]
  },
  {
   "cell_type": "code",
   "execution_count": 16,
   "metadata": {},
   "outputs": [
    {
     "data": {
      "text/plain": [
       "LinearRegression(copy_X=True, fit_intercept=True, n_jobs=1, normalize=False)"
      ]
     },
     "execution_count": 16,
     "metadata": {},
     "output_type": "execute_result"
    }
   ],
   "source": [
    "lr2.fit(x_train,y_train)"
   ]
  },
  {
   "cell_type": "code",
   "execution_count": 17,
   "metadata": {
    "collapsed": true
   },
   "outputs": [],
   "source": [
    "y_pred = lr2.predict(x_test)"
   ]
  },
  {
   "cell_type": "markdown",
   "metadata": {},
   "source": [
    "모든 attribute를 사용하여 만든 linear regression model보다 mse는 작아지고 r^2값은 커진것을 확인할 수 있다."
   ]
  },
  {
   "cell_type": "code",
   "execution_count": 18,
   "metadata": {},
   "outputs": [
    {
     "data": {
      "text/plain": [
       "2548.0723987259703"
      ]
     },
     "execution_count": 18,
     "metadata": {},
     "output_type": "execute_result"
    }
   ],
   "source": [
    "mean_squared_error(y_test,y_pred)"
   ]
  },
  {
   "cell_type": "code",
   "execution_count": 19,
   "metadata": {},
   "outputs": [
    {
     "data": {
      "text/plain": [
       "0.47257544798227136"
      ]
     },
     "execution_count": 19,
     "metadata": {},
     "output_type": "execute_result"
    }
   ],
   "source": [
    "r2_score(y_test,y_pred)"
   ]
  },
  {
   "cell_type": "code",
   "execution_count": 20,
   "metadata": {},
   "outputs": [
    {
     "data": {
      "text/plain": [
       "0.3351312506867543"
      ]
     },
     "execution_count": 20,
     "metadata": {},
     "output_type": "execute_result"
    }
   ],
   "source": [
    "lr2.score(x_train,y_train)"
   ]
  },
  {
   "cell_type": "code",
   "execution_count": 21,
   "metadata": {},
   "outputs": [
    {
     "data": {
      "text/plain": [
       "0.47257544798227136"
      ]
     },
     "execution_count": 21,
     "metadata": {},
     "output_type": "execute_result"
    }
   ],
   "source": [
    "lr2.score(x_test,y_test)"
   ]
  },
  {
   "cell_type": "markdown",
   "metadata": {},
   "source": [
    "당뇨병의 진행정도(Y)와 체질량지수(X)의 관계를 이용하여 linear regression 그래프를 그려보면 아래와 같다."
   ]
  },
  {
   "cell_type": "code",
   "execution_count": 22,
   "metadata": {},
   "outputs": [
    {
     "data": {
      "image/png": "[encoded data removed]",
      "text/plain": [
       "<matplotlib.figure.Figure at 0x7f4e8aba7b70>"
      ]
     },
     "metadata": {},
     "output_type": "display_data"
    }
   ],
   "source": [
    "plt.scatter(x_test, y_test, color='black')\n",
    "plt.plot(x_test, y_pred, color='blue', linewidth=3)\n",
    "plt.xlabel('Body mass index')\n",
    "plt.ylabel('diabetes progression')\n",
    "plt.xticks(())\n",
    "plt.yticks(())\n",
    "\n",
    "plt.show()"
   ]
  },
  {
   "cell_type": "markdown",
   "metadata": {},
   "source": [
    "## Logistic regression"
   ]
  },
  {
   "cell_type": "markdown",
   "metadata": {},
   "source": [
    "Logistic regression은 이름과는 다르게 주로 classification을 위한 용도로 쓰인다.\n",
    "\n",
    "Y값은 continous한 값이 아닌 probability 값을 나타낸다.\n",
    "\n",
    "linearly separable한 데이터에 적용하기 적합하며 매우 빠르고 대체로 좋은 성능을 보인다."
   ]
  },
  {
   "cell_type": "code",
   "execution_count": 47,
   "metadata": {
    "collapsed": true
   },
   "outputs": [],
   "source": [
    "from sklearn.linear_model import LogisticRegression\n",
    "from sklearn.datasets import load_breast_cancer"
   ]
  },
  {
   "cell_type": "code",
   "execution_count": 48,
   "metadata": {
    "collapsed": true
   },
   "outputs": [],
   "source": [
    "cancer = load_breast_cancer()"
   ]
  },
  {
   "cell_type": "code",
   "execution_count": 49,
   "metadata": {},
   "outputs": [
    {
     "data": {
      "text/plain": [
       "array(['mean radius', 'mean texture', 'mean perimeter', 'mean area',\n",
       "       'mean smoothness', 'mean compactness', 'mean concavity',\n",
       "       'mean concave points', 'mean symmetry', 'mean fractal dimension',\n",
       "       'radius error', 'texture error', 'perimeter error', 'area error',\n",
       "       'smoothness error', 'compactness error', 'concavity error',\n",
       "       'concave points error', 'symmetry error',\n",
       "       'fractal dimension error', 'worst radius', 'worst texture',\n",
       "       'worst perimeter', 'worst area', 'worst smoothness',\n",
       "       'worst compactness', 'worst concavity', 'worst concave points',\n",
       "       'worst symmetry', 'worst fractal dimension'], dtype='<U23')"
      ]
     },
     "execution_count": 49,
     "metadata": {},
     "output_type": "execute_result"
    }
   ],
   "source": [
    "cancer.feature_names"
   ]
  },
  {
   "cell_type": "code",
   "execution_count": 50,
   "metadata": {},
   "outputs": [
    {
     "data": {
      "text/plain": [
       "array(['malignant', 'benign'], dtype='<U9')"
      ]
     },
     "execution_count": 50,
     "metadata": {},
     "output_type": "execute_result"
    }
   ],
   "source": [
    "cancer.target_names"
   ]
  },
  {
   "cell_type": "code",
   "execution_count": 51,
   "metadata": {
    "collapsed": true
   },
   "outputs": [],
   "source": [
    "X_train, X_test, Y_train, Y_test = train_test_split(cancer.data, cancer.target, test_size=0.3)"
   ]
  },
  {
   "cell_type": "code",
   "execution_count": 52,
   "metadata": {
    "collapsed": true
   },
   "outputs": [],
   "source": [
    "lgr = LogisticRegression().fit(X_train, Y_train)"
   ]
  },
  {
   "cell_type": "code",
   "execution_count": 53,
   "metadata": {
    "scrolled": true
   },
   "outputs": [
    {
     "data": {
      "text/plain": [
       "0.9472361809045227"
      ]
     },
     "execution_count": 53,
     "metadata": {},
     "output_type": "execute_result"
    }
   ],
   "source": [
    "lgr.score(X_train, Y_train)"
   ]
  },
  {
   "cell_type": "code",
   "execution_count": 54,
   "metadata": {},
   "outputs": [
    {
     "data": {
      "text/plain": [
       "0.9824561403508771"
      ]
     },
     "execution_count": 54,
     "metadata": {},
     "output_type": "execute_result"
    }
   ],
   "source": [
    "lgr.score(X_test, Y_test)"
   ]
  },
  {
   "cell_type": "markdown",
   "metadata": {},
   "source": [
    "logistic regression의 hyper-parameter C(inverse of regularization strength)를 최적화해보자"
   ]
  },
  {
   "cell_type": "code",
   "execution_count": 55,
   "metadata": {
    "collapsed": true
   },
   "outputs": [],
   "source": [
    "from sklearn.model_selection import cross_val_score"
   ]
  },
  {
   "cell_type": "code",
   "execution_count": 56,
   "metadata": {
    "collapsed": true
   },
   "outputs": [],
   "source": [
    "list = [0.01,0.1,1,10,100]\n",
    "cv_error = []"
   ]
  },
  {
   "cell_type": "code",
   "execution_count": 57,
   "metadata": {
    "collapsed": true
   },
   "outputs": [],
   "source": [
    "for c in list:\n",
    "    lgr_cv = LogisticRegression(C=c)\n",
    "    scores = cross_val_score(lgr_cv, X_train, Y_train, cv=10, scoring='accuracy')\n",
    "    cv_error.append(1-scores.mean())"
   ]
  },
  {
   "cell_type": "code",
   "execution_count": 58,
   "metadata": {
    "collapsed": true
   },
   "outputs": [],
   "source": [
    "c_optimal = list[cv_error.index(min(cv_error))]"
   ]
  },
  {
   "cell_type": "code",
   "execution_count": 59,
   "metadata": {},
   "outputs": [
    {
     "data": {
      "text/plain": [
       "100"
      ]
     },
     "execution_count": 59,
     "metadata": {},
     "output_type": "execute_result"
    }
   ],
   "source": [
    "c_optimal"
   ]
  },
  {
   "cell_type": "code",
   "execution_count": 61,
   "metadata": {},
   "outputs": [
    {
     "data": {
      "text/plain": [
       "LogisticRegression(C=100, class_weight=None, dual=False, fit_intercept=True,\n",
       "          intercept_scaling=1, max_iter=100, multi_class='ovr', n_jobs=1,\n",
       "          penalty='l2', random_state=None, solver='liblinear', tol=0.0001,\n",
       "          verbose=0, warm_start=False)"
      ]
     },
     "execution_count": 61,
     "metadata": {},
     "output_type": "execute_result"
    }
   ],
   "source": [
    "lgropt = LogisticRegression(C=c_optimal)\n",
    "lgropt.fit(X_train,Y_train)"
   ]
  },
  {
   "cell_type": "markdown",
   "metadata": {},
   "source": [
    "최적화한 logistic regression의 training accuracy와 test accuracy를 나타내본다.\n",
    "\n",
    "두 값 모두 이전의 모델보다 성능이 향상되었음을 확인할 수 있다."
   ]
  },
  {
   "cell_type": "code",
   "execution_count": 62,
   "metadata": {},
   "outputs": [
    {
     "data": {
      "text/plain": [
       "0.9597989949748744"
      ]
     },
     "execution_count": 62,
     "metadata": {},
     "output_type": "execute_result"
    }
   ],
   "source": [
    "lgropt.score(X_train,Y_train)"
   ]
  },
  {
   "cell_type": "code",
   "execution_count": 63,
   "metadata": {},
   "outputs": [
    {
     "data": {
      "text/plain": [
       "0.9883040935672515"
      ]
     },
     "execution_count": 63,
     "metadata": {},
     "output_type": "execute_result"
    }
   ],
   "source": [
    "lgropt.score(X_test,Y_test)"
   ]
  },
  {
   "cell_type": "markdown",
   "metadata": {},
   "source": [
    "각 predictor(feature)와 Y(target)과의 상관관계를 확인할 수 있다."
   ]
  },
  {
   "cell_type": "code",
   "execution_count": 64,
   "metadata": {},
   "outputs": [
    {
     "data": {
      "text/plain": [
       "array([[ 5.41672744,  0.17606519, -0.64303414, -0.00785101, -1.37527476,\n",
       "        -0.17900263, -2.4255519 , -2.49200334, -1.96661786,  0.20457535,\n",
       "        -0.48749549,  2.88620802, -0.55461546, -0.0796085 , -0.18864607,\n",
       "         2.14178871,  2.36256948, -0.14592962,  0.06309014,  0.34738385,\n",
       "         0.77872401, -0.52312239,  0.07659275, -0.02499598, -2.99082583,\n",
       "         0.49453122, -3.2230561 , -4.63552104, -4.3963887 ,  0.16991761]])"
      ]
     },
     "execution_count": 64,
     "metadata": {},
     "output_type": "execute_result"
    }
   ],
   "source": [
    "lgropt.coef_"
   ]
  },
  {
   "cell_type": "code",
   "execution_count": 65,
   "metadata": {},
   "outputs": [
    {
     "data": {
      "text/plain": [
       "array([2.04032088])"
      ]
     },
     "execution_count": 65,
     "metadata": {},
     "output_type": "execute_result"
    }
   ],
   "source": [
    "lgropt.intercept_"
   ]
  },
  {
   "cell_type": "markdown",
   "metadata": {},
   "source": [
    "sample마다 malignant, benign일 확률이 각각 몇인지 확인해볼 수 있다"
   ]
  },
  {
   "cell_type": "code",
   "execution_count": 66,
   "metadata": {},
   "outputs": [
    {
     "data": {
      "text/plain": [
       "array([[9.99813082e-01, 1.86917964e-04],\n",
       "       [2.92084054e-04, 9.99707916e-01],\n",
       "       [2.66640462e-05, 9.99973336e-01],\n",
       "       [1.00000000e+00, 2.02921887e-10],\n",
       "       [9.99996981e-01, 3.01918611e-06],\n",
       "       [3.87882280e-04, 9.99612118e-01],\n",
       "       [9.99999974e-01, 2.62405775e-08],\n",
       "       [9.92432332e-01, 7.56766844e-03],\n",
       "       [1.32224008e-02, 9.86777599e-01],\n",
       "       [9.99999227e-01, 7.72548791e-07],\n",
       "       [1.00000000e+00, 2.08198555e-15],\n",
       "       [9.84484013e-06, 9.99990155e-01],\n",
       "       [3.68052472e-05, 9.99963195e-01],\n",
       "       [6.85455327e-03, 9.93145447e-01],\n",
       "       [1.58199936e-04, 9.99841800e-01],\n",
       "       [6.02653719e-04, 9.99397346e-01],\n",
       "       [8.21168717e-04, 9.99178831e-01],\n",
       "       [9.99996828e-01, 3.17179094e-06],\n",
       "       [3.09910112e-03, 9.96900899e-01],\n",
       "       [7.08237192e-03, 9.92917628e-01],\n",
       "       [1.40004105e-03, 9.98599959e-01],\n",
       "       [1.42576006e-03, 9.98574240e-01],\n",
       "       [9.95604612e-01, 4.39538826e-03],\n",
       "       [1.00000000e+00, 7.65182654e-32],\n",
       "       [1.12355750e-04, 9.99887644e-01],\n",
       "       [1.07300814e-02, 9.89269919e-01],\n",
       "       [9.12296942e-03, 9.90877031e-01],\n",
       "       [1.40663431e-03, 9.98593366e-01],\n",
       "       [1.00000000e+00, 1.99609160e-12],\n",
       "       [3.08548158e-01, 6.91451842e-01],\n",
       "       [6.74905776e-03, 9.93250942e-01],\n",
       "       [9.31835981e-02, 9.06816402e-01],\n",
       "       [7.95009506e-03, 9.92049905e-01],\n",
       "       [1.83552929e-04, 9.99816447e-01],\n",
       "       [9.99256078e-01, 7.43922181e-04],\n",
       "       [3.73604452e-01, 6.26395548e-01],\n",
       "       [3.29637868e-02, 9.67036213e-01],\n",
       "       [9.99819066e-01, 1.80934168e-04],\n",
       "       [3.17558800e-03, 9.96824412e-01],\n",
       "       [1.31911199e-03, 9.98680888e-01],\n",
       "       [1.74579181e-03, 9.98254208e-01],\n",
       "       [3.08654029e-03, 9.96913460e-01],\n",
       "       [1.63362438e-01, 8.36637562e-01],\n",
       "       [1.07637269e-02, 9.89236273e-01],\n",
       "       [4.21368117e-04, 9.99578632e-01],\n",
       "       [7.17076153e-01, 2.82923847e-01],\n",
       "       [2.79590780e-03, 9.97204092e-01],\n",
       "       [9.99999999e-01, 6.56614050e-10],\n",
       "       [2.91625743e-05, 9.99970837e-01],\n",
       "       [9.97790953e-01, 2.20904714e-03],\n",
       "       [9.17471409e-04, 9.99082529e-01],\n",
       "       [1.00000000e+00, 8.48537936e-12],\n",
       "       [5.24720177e-02, 9.47527982e-01],\n",
       "       [1.63625171e-02, 9.83637483e-01],\n",
       "       [7.00392471e-03, 9.92996075e-01],\n",
       "       [8.82763616e-01, 1.17236384e-01],\n",
       "       [9.99999955e-01, 4.54022087e-08],\n",
       "       [1.13879773e-03, 9.98861202e-01],\n",
       "       [5.55742081e-04, 9.99444258e-01],\n",
       "       [8.83703950e-03, 9.91162960e-01],\n",
       "       [1.91161991e-02, 9.80883801e-01],\n",
       "       [7.71435715e-05, 9.99922856e-01],\n",
       "       [9.30034445e-01, 6.99655552e-02],\n",
       "       [9.99999957e-01, 4.25186191e-08],\n",
       "       [2.41378888e-02, 9.75862111e-01],\n",
       "       [2.47378186e-01, 7.52621814e-01],\n",
       "       [1.60063316e-04, 9.99839937e-01],\n",
       "       [1.31367522e-03, 9.98686325e-01],\n",
       "       [9.99999662e-01, 3.38379550e-07],\n",
       "       [9.99533191e-01, 4.66809337e-04],\n",
       "       [6.49932443e-03, 9.93500676e-01],\n",
       "       [9.99993025e-01, 6.97508309e-06],\n",
       "       [9.01457503e-01, 9.85424968e-02],\n",
       "       [1.54282502e-02, 9.84571750e-01],\n",
       "       [2.78777145e-04, 9.99721223e-01],\n",
       "       [1.94016688e-02, 9.80598331e-01],\n",
       "       [5.19299416e-04, 9.99480701e-01],\n",
       "       [2.92125491e-04, 9.99707875e-01],\n",
       "       [9.98565553e-01, 1.43444706e-03],\n",
       "       [2.07882672e-04, 9.99792117e-01],\n",
       "       [6.46723565e-04, 9.99353276e-01],\n",
       "       [1.63537892e-01, 8.36462108e-01],\n",
       "       [9.99998889e-01, 1.11061828e-06],\n",
       "       [3.78258996e-02, 9.62174100e-01],\n",
       "       [1.00000000e+00, 2.75564088e-17],\n",
       "       [9.99901851e-01, 9.81488302e-05],\n",
       "       [2.80939481e-05, 9.99971906e-01],\n",
       "       [9.99992704e-01, 7.29550804e-06],\n",
       "       [4.20512938e-03, 9.95794871e-01],\n",
       "       [9.13420084e-02, 9.08657992e-01],\n",
       "       [9.99999923e-01, 7.66492529e-08],\n",
       "       [2.24885417e-02, 9.77511458e-01],\n",
       "       [1.09584187e-03, 9.98904158e-01],\n",
       "       [1.62933826e-04, 9.99837066e-01],\n",
       "       [3.02701407e-03, 9.96972986e-01],\n",
       "       [1.02796329e-04, 9.99897204e-01],\n",
       "       [5.56013162e-01, 4.43986838e-01],\n",
       "       [5.87687239e-04, 9.99412313e-01],\n",
       "       [7.30336247e-05, 9.99926966e-01],\n",
       "       [9.99995117e-01, 4.88293266e-06],\n",
       "       [9.99999943e-01, 5.71752497e-08],\n",
       "       [5.65430186e-04, 9.99434570e-01],\n",
       "       [1.78372549e-04, 9.99821627e-01],\n",
       "       [9.99999901e-01, 9.85148833e-08],\n",
       "       [8.08475407e-03, 9.91915246e-01],\n",
       "       [9.99961556e-01, 3.84437525e-05],\n",
       "       [9.99999923e-01, 7.69723859e-08],\n",
       "       [3.04222994e-04, 9.99695777e-01],\n",
       "       [5.19828005e-01, 4.80171995e-01],\n",
       "       [9.48159520e-05, 9.99905184e-01],\n",
       "       [9.99906714e-01, 9.32862141e-05],\n",
       "       [6.69630695e-03, 9.93303693e-01],\n",
       "       [9.99999999e-01, 5.84432597e-10],\n",
       "       [8.09791856e-02, 9.19020814e-01],\n",
       "       [9.99999986e-01, 1.37507379e-08],\n",
       "       [1.03428484e-02, 9.89657152e-01],\n",
       "       [1.86644321e-03, 9.98133557e-01],\n",
       "       [2.07487063e-06, 9.99997925e-01],\n",
       "       [4.69407602e-09, 9.99999995e-01],\n",
       "       [1.64693950e-04, 9.99835306e-01],\n",
       "       [1.38436721e-03, 9.98615633e-01],\n",
       "       [7.38831737e-04, 9.99261168e-01],\n",
       "       [9.79974452e-01, 2.00255479e-02],\n",
       "       [7.55663664e-04, 9.99244336e-01],\n",
       "       [9.75052581e-01, 2.49474193e-02],\n",
       "       [1.43059269e-03, 9.98569407e-01],\n",
       "       [1.00000000e+00, 3.29090637e-11],\n",
       "       [1.18867130e-03, 9.98811329e-01],\n",
       "       [1.00000000e+00, 5.41139678e-16],\n",
       "       [5.63816308e-02, 9.43618369e-01],\n",
       "       [4.01523394e-03, 9.95984766e-01],\n",
       "       [9.99965273e-01, 3.47271580e-05],\n",
       "       [2.33174478e-04, 9.99766826e-01],\n",
       "       [2.08660644e-01, 7.91339356e-01],\n",
       "       [1.00000000e+00, 2.31109574e-10],\n",
       "       [1.00000000e+00, 1.12235978e-12],\n",
       "       [1.22140857e-03, 9.98778591e-01],\n",
       "       [2.03812873e-03, 9.97961871e-01],\n",
       "       [2.39474671e-04, 9.99760525e-01],\n",
       "       [7.65390185e-04, 9.99234610e-01],\n",
       "       [2.64583729e-02, 9.73541627e-01],\n",
       "       [3.42384102e-04, 9.99657616e-01],\n",
       "       [2.94965240e-04, 9.99705035e-01],\n",
       "       [2.74095870e-03, 9.97259041e-01],\n",
       "       [1.61645584e-03, 9.98383544e-01],\n",
       "       [1.68546159e-02, 9.83145384e-01],\n",
       "       [9.99939132e-01, 6.08677333e-05],\n",
       "       [8.54198287e-02, 9.14580171e-01],\n",
       "       [9.94662185e-01, 5.33781466e-03],\n",
       "       [9.53534192e-01, 4.64658077e-02],\n",
       "       [1.34869522e-03, 9.98651305e-01],\n",
       "       [9.91947015e-01, 8.05298522e-03],\n",
       "       [1.87040073e-02, 9.81295993e-01],\n",
       "       [8.79070108e-03, 9.91209299e-01],\n",
       "       [1.00000000e+00, 4.64633099e-10],\n",
       "       [9.99986887e-01, 1.31126050e-05],\n",
       "       [1.36599972e-04, 9.99863400e-01],\n",
       "       [1.00000000e+00, 1.99523016e-15],\n",
       "       [1.00000000e+00, 1.36686750e-20],\n",
       "       [9.99999999e-01, 9.89635276e-10],\n",
       "       [1.10981055e-02, 9.88901895e-01],\n",
       "       [9.99999975e-01, 2.47424658e-08],\n",
       "       [1.00000000e+00, 1.15335362e-13],\n",
       "       [9.97336859e-01, 2.66314111e-03],\n",
       "       [9.99948234e-01, 5.17661228e-05],\n",
       "       [8.87472286e-04, 9.99112528e-01],\n",
       "       [1.07719812e-03, 9.98922802e-01],\n",
       "       [2.59203223e-02, 9.74079678e-01],\n",
       "       [9.99999943e-01, 5.67589286e-08],\n",
       "       [7.51389202e-03, 9.92486108e-01],\n",
       "       [1.37925963e-05, 9.99986207e-01],\n",
       "       [7.29946288e-01, 2.70053712e-01],\n",
       "       [7.38006646e-02, 9.26199335e-01],\n",
       "       [9.00430807e-04, 9.99099569e-01],\n",
       "       [5.98106826e-04, 9.99401893e-01],\n",
       "       [1.02967529e-01, 8.97032471e-01],\n",
       "       [5.79110681e-03, 9.94208893e-01],\n",
       "       [7.22890022e-03, 9.92771100e-01],\n",
       "       [2.17498324e-02, 9.78250168e-01],\n",
       "       [9.99581055e-01, 4.18944868e-04],\n",
       "       [6.20816317e-02, 9.37918368e-01],\n",
       "       [9.65121727e-04, 9.99034878e-01],\n",
       "       [9.17776799e-04, 9.99082223e-01],\n",
       "       [6.55701152e-01, 3.44298848e-01],\n",
       "       [8.82929523e-04, 9.99117070e-01],\n",
       "       [9.90035721e-01, 9.96427866e-03],\n",
       "       [4.54934914e-01, 5.45065086e-01],\n",
       "       [9.94667099e-01, 5.33290136e-03],\n",
       "       [1.29681562e-01, 8.70318438e-01],\n",
       "       [1.05347423e-04, 9.99894653e-01],\n",
       "       [9.61796121e-04, 9.99038204e-01],\n",
       "       [9.89273432e-01, 1.07265679e-02],\n",
       "       [9.99343215e-01, 6.56785034e-04],\n",
       "       [3.18612288e-03, 9.96813877e-01],\n",
       "       [4.07029427e-04, 9.99592971e-01],\n",
       "       [9.99864414e-01, 1.35586219e-04],\n",
       "       [9.96668892e-01, 3.33110778e-03],\n",
       "       [9.99990229e-01, 9.77119104e-06],\n",
       "       [1.39169842e-01, 8.60830158e-01],\n",
       "       [2.86453479e-02, 9.71354652e-01],\n",
       "       [9.69056605e-01, 3.09433951e-02],\n",
       "       [4.04226673e-04, 9.99595773e-01],\n",
       "       [3.08242395e-03, 9.96917576e-01],\n",
       "       [5.51780057e-01, 4.48219943e-01],\n",
       "       [9.99999992e-01, 8.01422419e-09],\n",
       "       [6.45875823e-02, 9.35412418e-01],\n",
       "       [1.00000000e+00, 3.52076676e-13],\n",
       "       [1.00000000e+00, 6.64418041e-11],\n",
       "       [9.99985285e-01, 1.47153955e-05],\n",
       "       [1.23521935e-01, 8.76478065e-01],\n",
       "       [6.49525684e-01, 3.50474316e-01],\n",
       "       [2.53953907e-04, 9.99746046e-01],\n",
       "       [9.82136257e-01, 1.78637427e-02],\n",
       "       [1.00000000e+00, 1.70975548e-25],\n",
       "       [9.96996118e-01, 3.00388152e-03],\n",
       "       [2.52782008e-01, 7.47217992e-01],\n",
       "       [8.02223681e-03, 9.91977763e-01],\n",
       "       [4.97592313e-02, 9.50240769e-01],\n",
       "       [9.30464605e-03, 9.90695354e-01],\n",
       "       [1.42100560e-04, 9.99857899e-01],\n",
       "       [5.96641837e-04, 9.99403358e-01],\n",
       "       [1.77370675e-01, 8.22629325e-01],\n",
       "       [9.99788833e-01, 2.11166764e-04],\n",
       "       [1.00000000e+00, 1.73376767e-20],\n",
       "       [9.99877436e-01, 1.22564387e-04],\n",
       "       [1.65130650e-02, 9.83486935e-01],\n",
       "       [1.48556379e-04, 9.99851444e-01],\n",
       "       [1.00000000e+00, 1.75364760e-34],\n",
       "       [4.10768631e-03, 9.95892314e-01],\n",
       "       [1.00000000e+00, 6.69500452e-12],\n",
       "       [1.29727492e-06, 9.99998703e-01],\n",
       "       [8.88062109e-04, 9.99111938e-01],\n",
       "       [7.08964793e-04, 9.99291035e-01],\n",
       "       [9.33587655e-01, 6.64123449e-02],\n",
       "       [6.48961278e-02, 9.35103872e-01],\n",
       "       [1.00000000e+00, 1.71058063e-21],\n",
       "       [1.00000000e+00, 7.03511431e-38],\n",
       "       [4.27600103e-04, 9.99572400e-01],\n",
       "       [4.24879408e-03, 9.95751206e-01],\n",
       "       [3.23761299e-01, 6.76238701e-01],\n",
       "       [9.99995674e-01, 4.32569703e-06],\n",
       "       [1.88763498e-02, 9.81123650e-01],\n",
       "       [4.99781431e-01, 5.00218569e-01],\n",
       "       [1.41665841e-04, 9.99858334e-01],\n",
       "       [4.48211902e-04, 9.99551788e-01],\n",
       "       [1.00000000e+00, 8.41919359e-17],\n",
       "       [4.77201395e-04, 9.99522799e-01],\n",
       "       [9.21547678e-01, 7.84523224e-02],\n",
       "       [2.25982793e-02, 9.77401721e-01],\n",
       "       [7.70489325e-05, 9.99922951e-01],\n",
       "       [9.99952826e-01, 4.71739319e-05],\n",
       "       [9.95104597e-01, 4.89540316e-03],\n",
       "       [1.00000000e+00, 3.04201608e-10],\n",
       "       [1.00000000e+00, 4.70062692e-10],\n",
       "       [9.97002088e-01, 2.99791203e-03],\n",
       "       [2.58413872e-03, 9.97415861e-01],\n",
       "       [1.41169893e-02, 9.85883011e-01],\n",
       "       [9.99999934e-01, 6.59650086e-08],\n",
       "       [8.26852615e-04, 9.99173147e-01],\n",
       "       [9.99999996e-01, 3.53052910e-09],\n",
       "       [1.00000000e+00, 3.91301511e-19],\n",
       "       [1.00000000e+00, 2.13280373e-13],\n",
       "       [4.57274275e-01, 5.42725725e-01],\n",
       "       [9.99999989e-01, 1.07439282e-08],\n",
       "       [1.00000000e+00, 8.46833172e-13],\n",
       "       [4.39703512e-03, 9.95602965e-01],\n",
       "       [2.89105536e-02, 9.71089446e-01],\n",
       "       [6.87811145e-05, 9.99931219e-01],\n",
       "       [6.55128677e-03, 9.93448713e-01],\n",
       "       [9.99999665e-01, 3.34595968e-07],\n",
       "       [1.00000000e+00, 4.05395777e-10],\n",
       "       [3.82852861e-05, 9.99961715e-01],\n",
       "       [5.45681700e-03, 9.94543183e-01],\n",
       "       [2.44304129e-01, 7.55695871e-01],\n",
       "       [1.00000000e+00, 1.04869505e-22],\n",
       "       [9.72107031e-04, 9.99027893e-01],\n",
       "       [2.05711969e-04, 9.99794288e-01],\n",
       "       [1.96061924e-02, 9.80393808e-01],\n",
       "       [1.00000000e+00, 6.01283598e-13],\n",
       "       [4.97145821e-04, 9.99502854e-01],\n",
       "       [2.68209237e-02, 9.73179076e-01],\n",
       "       [1.79728088e-03, 9.98202719e-01],\n",
       "       [1.63366572e-04, 9.99836633e-01],\n",
       "       [1.00000000e+00, 7.48216171e-20],\n",
       "       [9.35851501e-04, 9.99064148e-01],\n",
       "       [1.00000000e+00, 3.22715832e-10],\n",
       "       [3.66071788e-03, 9.96339282e-01],\n",
       "       [1.18846938e-03, 9.98811531e-01],\n",
       "       [1.00000000e+00, 1.44092162e-13],\n",
       "       [2.24904212e-02, 9.77509579e-01],\n",
       "       [7.61623826e-05, 9.99923838e-01],\n",
       "       [2.78566641e-03, 9.97214334e-01],\n",
       "       [2.95121744e-02, 9.70487826e-01],\n",
       "       [1.49231478e-03, 9.98507685e-01],\n",
       "       [1.00000000e+00, 1.03669173e-16],\n",
       "       [8.68118590e-02, 9.13188141e-01],\n",
       "       [6.80457217e-04, 9.99319543e-01],\n",
       "       [7.78034165e-05, 9.99922197e-01],\n",
       "       [2.80676039e-03, 9.97193240e-01],\n",
       "       [9.99998549e-01, 1.45108015e-06],\n",
       "       [5.71274446e-01, 4.28725554e-01],\n",
       "       [1.01532699e-02, 9.89846730e-01],\n",
       "       [9.99280178e-01, 7.19822470e-04],\n",
       "       [1.14247228e-02, 9.88575277e-01],\n",
       "       [5.19594608e-02, 9.48040539e-01],\n",
       "       [3.19165584e-03, 9.96808344e-01],\n",
       "       [1.00000000e+00, 9.02543150e-60],\n",
       "       [7.76397486e-01, 2.23602514e-01],\n",
       "       [2.16555835e-03, 9.97834442e-01],\n",
       "       [9.99999642e-01, 3.58277470e-07],\n",
       "       [9.99999996e-01, 4.28634159e-09],\n",
       "       [5.09395074e-02, 9.49060493e-01],\n",
       "       [9.99982676e-01, 1.73237704e-05],\n",
       "       [7.78823960e-01, 2.21176040e-01],\n",
       "       [1.60763257e-01, 8.39236743e-01],\n",
       "       [9.10400612e-01, 8.95993885e-02],\n",
       "       [9.60635789e-03, 9.90393642e-01],\n",
       "       [9.99951421e-01, 4.85786001e-05],\n",
       "       [1.00000000e+00, 4.32081097e-24],\n",
       "       [1.30748995e-06, 9.99998693e-01],\n",
       "       [4.19870195e-03, 9.95801298e-01],\n",
       "       [8.80705156e-01, 1.19294844e-01],\n",
       "       [7.09199381e-04, 9.99290801e-01],\n",
       "       [6.13414036e-03, 9.93865860e-01],\n",
       "       [1.37586018e-02, 9.86241398e-01],\n",
       "       [9.99998564e-01, 1.43610961e-06],\n",
       "       [7.04769907e-01, 2.95230093e-01],\n",
       "       [6.40810770e-04, 9.99359189e-01],\n",
       "       [7.39775094e-01, 2.60224906e-01],\n",
       "       [7.17135097e-01, 2.82864903e-01],\n",
       "       [5.60051628e-04, 9.99439948e-01],\n",
       "       [1.95545649e-05, 9.99980445e-01],\n",
       "       [5.51577656e-05, 9.99944842e-01],\n",
       "       [9.99999195e-01, 8.05229123e-07],\n",
       "       [1.18007121e-04, 9.99881993e-01],\n",
       "       [1.56156493e-03, 9.98438435e-01],\n",
       "       [1.20370342e-03, 9.98796297e-01],\n",
       "       [6.27506366e-02, 9.37249363e-01],\n",
       "       [9.95261192e-01, 4.73880761e-03],\n",
       "       [9.99999755e-01, 2.45270113e-07],\n",
       "       [1.00000000e+00, 1.62672927e-27],\n",
       "       [9.82939642e-01, 1.70603580e-02],\n",
       "       [3.12940031e-02, 9.68705997e-01],\n",
       "       [9.99999926e-01, 7.39435673e-08],\n",
       "       [2.79650783e-01, 7.20349217e-01],\n",
       "       [1.00000000e+00, 7.61104650e-12],\n",
       "       [9.46866580e-03, 9.90531334e-01],\n",
       "       [8.81045641e-04, 9.99118954e-01],\n",
       "       [1.15323509e-04, 9.99884676e-01],\n",
       "       [9.99999991e-01, 8.70314664e-09],\n",
       "       [9.99963292e-01, 3.67081965e-05],\n",
       "       [7.61009586e-04, 9.99238990e-01],\n",
       "       [9.61827634e-01, 3.81723657e-02],\n",
       "       [2.80689090e-04, 9.99719311e-01],\n",
       "       [9.99997657e-01, 2.34288736e-06],\n",
       "       [1.01158932e-04, 9.99898841e-01],\n",
       "       [4.91328816e-03, 9.95086712e-01],\n",
       "       [4.02745751e-05, 9.99959725e-01],\n",
       "       [8.31701297e-03, 9.91682987e-01],\n",
       "       [6.07756908e-03, 9.93922431e-01],\n",
       "       [1.00000000e+00, 1.56974849e-10],\n",
       "       [1.00000000e+00, 2.30129480e-18],\n",
       "       [5.59713870e-03, 9.94402861e-01],\n",
       "       [4.87827805e-01, 5.12172195e-01],\n",
       "       [9.70299096e-01, 2.97009038e-02],\n",
       "       [8.84613318e-05, 9.99911539e-01],\n",
       "       [1.00000000e+00, 5.29955134e-12],\n",
       "       [3.60762195e-01, 6.39237805e-01],\n",
       "       [1.07394187e-03, 9.98926058e-01],\n",
       "       [9.99999974e-01, 2.58497503e-08],\n",
       "       [4.87476603e-03, 9.95125234e-01],\n",
       "       [2.17075556e-05, 9.99978292e-01],\n",
       "       [9.94914311e-01, 5.08568899e-03],\n",
       "       [4.08268034e-04, 9.99591732e-01],\n",
       "       [9.97593258e-01, 2.40674183e-03],\n",
       "       [9.15854350e-01, 8.41456501e-02],\n",
       "       [3.47465981e-05, 9.99965253e-01],\n",
       "       [3.64253039e-04, 9.99635747e-01],\n",
       "       [4.02109922e-03, 9.95978901e-01],\n",
       "       [1.00000000e+00, 4.20222507e-16],\n",
       "       [4.12413008e-02, 9.58758699e-01],\n",
       "       [1.53602239e-04, 9.99846398e-01],\n",
       "       [6.79468271e-04, 9.99320532e-01],\n",
       "       [5.98884787e-04, 9.99401115e-01],\n",
       "       [6.22719969e-02, 9.37728003e-01],\n",
       "       [1.29476484e-03, 9.98705235e-01],\n",
       "       [1.00000000e+00, 1.78563243e-15],\n",
       "       [1.01636158e-03, 9.98983638e-01],\n",
       "       [4.23008661e-05, 9.99957699e-01],\n",
       "       [1.26592408e-03, 9.98734076e-01],\n",
       "       [7.35317235e-01, 2.64682765e-01],\n",
       "       [3.25603024e-05, 9.99967440e-01],\n",
       "       [1.00000000e+00, 2.63931525e-18],\n",
       "       [9.98080458e-01, 1.91954154e-03],\n",
       "       [4.36329828e-02, 9.56367017e-01],\n",
       "       [9.99999980e-01, 2.03450227e-08],\n",
       "       [9.94639702e-01, 5.36029777e-03],\n",
       "       [9.96040901e-01, 3.95909881e-03]])"
      ]
     },
     "execution_count": 66,
     "metadata": {},
     "output_type": "execute_result"
    }
   ],
   "source": [
    "lgropt.predict_proba(X_train)"
   ]
  }
 ],
 "metadata": {
  "kernelspec": {
   "display_name": "Python 3",
   "language": "python",
   "name": "python3"
  },
  "language_info": {
   "codemirror_mode": {
    "name": "ipython",
    "version": 3
   },
   "file_extension": ".py",
   "mimetype": "text/x-python",
   "name": "python",
   "nbconvert_exporter": "python",
   "pygments_lexer": "ipython3",
   "version": "3.6.3"
  }
 },
 "nbformat": 4,
 "nbformat_minor": 2
}
