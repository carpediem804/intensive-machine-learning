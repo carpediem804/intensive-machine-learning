{
 "cells": [
  {
   "cell_type": "code",
   "execution_count": 1,
   "metadata": {
    "collapsed": true
   },
   "outputs": [],
   "source": [
    "import torch\n",
    "import torch.nn as nn\n",
    "import torchvision.datasets as dsets\n",
    "import torchvision.transforms as transforms\n",
    "from tensorboardX import SummaryWriter # module for using tensorboard\n",
    "from torch.autograd import Variable"
   ]
  },
  {
   "cell_type": "code",
   "execution_count": 2,
   "metadata": {},
   "outputs": [],
   "source": [
    "# Hyper Parameters \n",
    "input_size = 784\n",
    "num_classes = 10\n",
    "num_epochs = 5\n",
    "batch_size = 100\n",
    "learning_rate = 0.001\n",
    "\n",
    "# MNIST Dataset (Images and Labels)\n",
    "train_dataset = dsets.MNIST(root='./data', \n",
    "                            train=True, \n",
    "                            transform=transforms.ToTensor(),\n",
    "                            download=True)\n",
    "\n",
    "test_dataset = dsets.MNIST(root='./data', \n",
    "                           train=False, \n",
    "                           transform=transforms.ToTensor())\n",
    "\n",
    "# Dataset Loader (Input Pipline)\n",
    "train_loader = torch.utils.data.DataLoader(dataset=train_dataset, \n",
    "                                           batch_size=batch_size, \n",
    "                                           shuffle=True)\n",
    "\n",
    "test_loader = torch.utils.data.DataLoader(dataset=test_dataset, \n",
    "                                          batch_size=batch_size, \n",
    "                                          shuffle=False)"
   ]
  },
  {
   "cell_type": "code",
   "execution_count": 3,
   "metadata": {
    "collapsed": true
   },
   "outputs": [],
   "source": [
    "# Model\n",
    "class LogisticRegression(nn.Module):\n",
    "    def __init__(self, input_size, num_classes):\n",
    "        super(LogisticRegression, self).__init__()\n",
    "        self.linear = nn.Linear(input_size, num_classes)\n",
    "    \n",
    "    def forward(self, x):\n",
    "        out = self.linear(x)\n",
    "        return out\n",
    "\n",
    "model = LogisticRegression(input_size, num_classes)\n",
    "\n",
    "# Loss and Optimizer\n",
    "# Softmax is internally computed.\n",
    "# Set parameters to be updated.\n",
    "criterion = nn.CrossEntropyLoss()  \n",
    "optimizer = torch.optim.SGD(model.parameters(), lr=learning_rate)\n",
    "writer = SummaryWriter() # tensorboard writer"
   ]
  },
  {
   "cell_type": "code",
   "execution_count": 6,
   "metadata": {},
   "outputs": [
    {
     "name": "stdout",
     "output_type": "stream",
     "text": [
      "Epoch: [1/5], Step: [100/600], Loss: 1.0538\n",
      "Epoch: [1/5], Step: [200/600], Loss: 0.8892\n",
      "Epoch: [1/5], Step: [300/600], Loss: 1.0069\n",
      "Epoch: [1/5], Step: [400/600], Loss: 1.0160\n",
      "Epoch: [1/5], Step: [500/600], Loss: 0.8567\n",
      "Epoch: [1/5], Step: [600/600], Loss: 1.0047\n",
      "Epoch: [2/5], Step: [100/600], Loss: 0.8343\n",
      "Epoch: [2/5], Step: [200/600], Loss: 0.9019\n",
      "Epoch: [2/5], Step: [300/600], Loss: 0.9002\n",
      "Epoch: [2/5], Step: [400/600], Loss: 0.8481\n",
      "Epoch: [2/5], Step: [500/600], Loss: 0.8698\n",
      "Epoch: [2/5], Step: [600/600], Loss: 0.7914\n",
      "Epoch: [3/5], Step: [100/600], Loss: 0.8406\n",
      "Epoch: [3/5], Step: [200/600], Loss: 0.7636\n",
      "Epoch: [3/5], Step: [300/600], Loss: 0.8300\n",
      "Epoch: [3/5], Step: [400/600], Loss: 0.8250\n",
      "Epoch: [3/5], Step: [500/600], Loss: 0.8774\n",
      "Epoch: [3/5], Step: [600/600], Loss: 0.7355\n",
      "Epoch: [4/5], Step: [100/600], Loss: 0.8019\n",
      "Epoch: [4/5], Step: [200/600], Loss: 0.6608\n",
      "Epoch: [4/5], Step: [300/600], Loss: 0.9006\n",
      "Epoch: [4/5], Step: [400/600], Loss: 0.6849\n",
      "Epoch: [4/5], Step: [500/600], Loss: 0.8635\n",
      "Epoch: [4/5], Step: [600/600], Loss: 0.7407\n",
      "Epoch: [5/5], Step: [100/600], Loss: 0.7836\n",
      "Epoch: [5/5], Step: [200/600], Loss: 0.7527\n",
      "Epoch: [5/5], Step: [300/600], Loss: 0.6680\n",
      "Epoch: [5/5], Step: [400/600], Loss: 0.7436\n",
      "Epoch: [5/5], Step: [500/600], Loss: 0.7992\n",
      "Epoch: [5/5], Step: [600/600], Loss: 0.7760\n"
     ]
    }
   ],
   "source": [
    "# Training the Model\n",
    "global_step = 0\n",
    "for epoch in range(num_epochs):\n",
    "    for i, (images, labels) in enumerate(train_loader):\n",
    "        images = Variable(images.view(-1, 28*28))\n",
    "        labels = Variable(labels)\n",
    "        \n",
    "        # Forward + Backward + Optimize\n",
    "        optimizer.zero_grad()\n",
    "        outputs = model(images)\n",
    "        loss = criterion(outputs, labels)\n",
    "        loss.backward()\n",
    "        optimizer.step()\n",
    "        \n",
    "        global_step += 1\n",
    "        \n",
    "        if (i+1) % 100 == 0:\n",
    "            writer.add_scalar(\"loss\", loss.data[0], global_step+1)\n",
    "            print ('Epoch: [%d/%d], Step: [%d/%d], Loss: %.4f' \n",
    "                   % (epoch+1, num_epochs, i+1, len(train_dataset)//batch_size, loss.data[0]))"
   ]
  },
  {
   "cell_type": "code",
   "execution_count": 5,
   "metadata": {},
   "outputs": [
    {
     "name": "stdout",
     "output_type": "stream",
     "text": [
      "Accuracy of the model on the 10000 test images: 83 %\n"
     ]
    }
   ],
   "source": [
    "# Test the Model\n",
    "correct = 0\n",
    "total = 0\n",
    "for images, labels in test_loader:\n",
    "    images = Variable(images.view(-1, 28*28))\n",
    "    outputs = model(images)\n",
    "    _, predicted = torch.max(outputs.data, 1)\n",
    "    total += labels.size(0)\n",
    "    correct += (predicted == labels).sum()\n",
    "    \n",
    "print('Accuracy of the model on the 10000 test images: %d %%' % (100 * correct / total))\n",
    "\n",
    "# Save the Model\n",
    "torch.save(model.state_dict(), 'model.pth')"
   ]
  },
  {
   "cell_type": "code",
   "execution_count": null,
   "metadata": {
    "collapsed": true
   },
   "outputs": [],
   "source": []
  }
 ],
 "metadata": {
  "kernelspec": {
   "display_name": "Python 3",
   "language": "python",
   "name": "python3"
  },
  "language_info": {
   "codemirror_mode": {
    "name": "ipython",
    "version": 3
   },
   "file_extension": ".py",
   "mimetype": "text/x-python",
   "name": "python",
   "nbconvert_exporter": "python",
   "pygments_lexer": "ipython3",
   "version": "3.5.3"
  }
 },
 "nbformat": 4,
 "nbformat_minor": 2
}
